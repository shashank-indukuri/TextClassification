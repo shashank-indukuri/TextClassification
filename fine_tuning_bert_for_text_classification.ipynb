{
  "cells": [
    {
      "cell_type": "markdown",
      "metadata": {
        "id": "view-in-github",
        "colab_type": "text"
      },
      "source": [
        "<a href=\"https://colab.research.google.com/github/shashank-indukuri/TextClassification/blob/main/fine_tuning_bert_for_text_classification.ipynb\" target=\"_parent\"><img src=\"https://colab.research.google.com/assets/colab-badge.svg\" alt=\"Open In Colab\"/></a>"
      ]
    },
    {
      "cell_type": "markdown",
      "id": "gentle-picking",
      "metadata": {
        "papermill": {
          "duration": 0.020725,
          "end_time": "2023-01-13T12:00:58.442386",
          "exception": false,
          "start_time": "2023-01-13T12:00:58.421661",
          "status": "completed"
        },
        "tags": [],
        "id": "gentle-picking"
      },
      "source": [
        "# References\n",
        "\n",
        "1. http://jalammar.github.io/illustrated-bert/\n",
        "1. https://mccormickml.com/2019/07/22/BERT-fine-tuning/"
      ]
    },
    {
      "cell_type": "markdown",
      "id": "worth-sheriff",
      "metadata": {
        "papermill": {
          "duration": 0.021658,
          "end_time": "2023-01-13T12:00:58.483829",
          "exception": false,
          "start_time": "2023-01-13T12:00:58.462171",
          "status": "completed"
        },
        "tags": [],
        "id": "worth-sheriff"
      },
      "source": [
        "# Problem statement\n",
        "\n",
        "The aim is to develop a machine learning algorithm to predict whether a tweet is about a real disaster or not."
      ]
    },
    {
      "cell_type": "markdown",
      "id": "parental-procedure",
      "metadata": {
        "papermill": {
          "duration": 0.022631,
          "end_time": "2023-01-13T12:00:58.529810",
          "exception": false,
          "start_time": "2023-01-13T12:00:58.507179",
          "status": "completed"
        },
        "tags": [],
        "id": "parental-procedure"
      },
      "source": [
        "# Aproach\n",
        "\n",
        "Transfer learning technique is used to perform the text classification problem. We load pretrained BERT model and finetune the weights.\n",
        "\n",
        "## Advantages of fine-tuning\n",
        "\n",
        "* **Time** - Pretrained BERT model weights already encode a lot of information. As a result, it takes much less time to finetune the model\n",
        "\n",
        "* **Data** - As the pretrained model is trained on large text, the model performs well even with small datasets.\n",
        "\n",
        "We don't go into the details of BERT architecture. Here is an overview about how BERT is pretrained, and how it can be used for classification.\n"
      ]
    },
    {
      "cell_type": "markdown",
      "id": "crude-biodiversity",
      "metadata": {
        "papermill": {
          "duration": 0.019208,
          "end_time": "2023-01-13T12:00:58.568992",
          "exception": false,
          "start_time": "2023-01-13T12:00:58.549784",
          "status": "completed"
        },
        "tags": [],
        "id": "crude-biodiversity"
      },
      "source": [
        "### BERT (Bidirectional Encoder Representations from Transformers)\n",
        "\n",
        "Language modeling is a common method of pretraining on unlabeled text (self supervised learning). Most of the language models learned by iteratively predicting next word in a sequence auto regressively across enormous data sets of text like wikepedia. This can be left to right, right to left or bi-directional. \n",
        "\n",
        "There are two strategies of applying pretrained language representations to downstream tasks:\n",
        "\n",
        "1. Feature based approach\n",
        "1. Fine tuning approach\n",
        "\n",
        "The feauture based approach, such as **ELMo** uses task specific architectures that include the pretrained representations as additional features.\n",
        "\n",
        "The fine tuning approach, such as **OpenAI GPT**, introduces minimal task specific parameters, and is trained on the downstream task by fine tuning all the pretrained parameters.\n",
        "\n",
        "BERT model can be used for both the approaches. BERT reformulates the language modeling pretrained task of iteratively predicting the next word in sequence to instead incorporate bidirectional context and predict mask of intermediate tokens of the sequence and predict the mask token. BERT presented a new self supervised learning task for pretaining transformers inorder to fine tune them for different tasks. They major difference between BERT and prior methods of pretraining transformer models is using the bidirectional context of language modeling. Most of the models either move left to right or right to left to predict next word in sequence, where BERT tries to learn intermediate tokens (by MASK), making the name Bidirectional Encoder.\n",
        "\n",
        "\n",
        "\n",
        "BERT uses Masked language model and also use \"Next sentence prediction\" task.\n",
        "\n",
        "BERT uses 3 embeddings to compute the input representations. They are token embeddings, segment embeddings and position embeddings. \n",
        "\n",
        "BERT Transformer will preserve the length of the (dimention of the) input. The final output will take this vector and pass these to seperate tasks (classification, in this case)."
      ]
    },
    {
      "cell_type": "markdown",
      "id": "featured-india",
      "metadata": {
        "papermill": {
          "duration": 0.019353,
          "end_time": "2023-01-13T12:00:58.607570",
          "exception": false,
          "start_time": "2023-01-13T12:00:58.588217",
          "status": "completed"
        },
        "tags": [],
        "id": "featured-india"
      },
      "source": [
        "# BERT for Classification\n",
        "\n",
        "BERT consists of stacked encoder layers. Just like the input of encoder of the transformer model, BERT model takes the sequence of numeric representation of the tokens as input. For classification tasks, we must prepend the special [CLS] token to the beginning of every sentence. \n",
        "\n",
        "Encoder block of transformer outputs a vector with same length as of input. First position of the vector, corresponding to the [CLS] token, can now be used as the input for a classifier. "
      ]
    },
    {
      "cell_type": "code",
      "source": [
        "!pip install transformers"
      ],
      "metadata": {
        "colab": {
          "base_uri": "https://localhost:8080/"
        },
        "id": "F_Cpd4KFqr7Q",
        "outputId": "c23fb3a3-e696-40a4-f4a6-d9e3fa6ec204"
      },
      "id": "F_Cpd4KFqr7Q",
      "execution_count": 2,
      "outputs": [
        {
          "output_type": "stream",
          "name": "stdout",
          "text": [
            "Looking in indexes: https://pypi.org/simple, https://us-python.pkg.dev/colab-wheels/public/simple/\n",
            "Collecting transformers\n",
            "  Downloading transformers-4.29.2-py3-none-any.whl (7.1 MB)\n",
            "\u001b[2K     \u001b[90m━━━━━━━━━━━━━━━━━━━━━━━━━━━━━━━━━━━━━━━━\u001b[0m \u001b[32m7.1/7.1 MB\u001b[0m \u001b[31m87.5 MB/s\u001b[0m eta \u001b[36m0:00:00\u001b[0m\n",
            "\u001b[?25hRequirement already satisfied: filelock in /usr/local/lib/python3.10/dist-packages (from transformers) (3.12.0)\n",
            "Collecting huggingface-hub<1.0,>=0.14.1 (from transformers)\n",
            "  Downloading huggingface_hub-0.15.1-py3-none-any.whl (236 kB)\n",
            "\u001b[2K     \u001b[90m━━━━━━━━━━━━━━━━━━━━━━━━━━━━━━━━━━━━━━\u001b[0m \u001b[32m236.8/236.8 kB\u001b[0m \u001b[31m28.2 MB/s\u001b[0m eta \u001b[36m0:00:00\u001b[0m\n",
            "\u001b[?25hRequirement already satisfied: numpy>=1.17 in /usr/local/lib/python3.10/dist-packages (from transformers) (1.22.4)\n",
            "Requirement already satisfied: packaging>=20.0 in /usr/local/lib/python3.10/dist-packages (from transformers) (23.1)\n",
            "Requirement already satisfied: pyyaml>=5.1 in /usr/local/lib/python3.10/dist-packages (from transformers) (6.0)\n",
            "Requirement already satisfied: regex!=2019.12.17 in /usr/local/lib/python3.10/dist-packages (from transformers) (2022.10.31)\n",
            "Requirement already satisfied: requests in /usr/local/lib/python3.10/dist-packages (from transformers) (2.27.1)\n",
            "Collecting tokenizers!=0.11.3,<0.14,>=0.11.1 (from transformers)\n",
            "  Downloading tokenizers-0.13.3-cp310-cp310-manylinux_2_17_x86_64.manylinux2014_x86_64.whl (7.8 MB)\n",
            "\u001b[2K     \u001b[90m━━━━━━━━━━━━━━━━━━━━━━━━━━━━━━━━━━━━━━━━\u001b[0m \u001b[32m7.8/7.8 MB\u001b[0m \u001b[31m108.1 MB/s\u001b[0m eta \u001b[36m0:00:00\u001b[0m\n",
            "\u001b[?25hRequirement already satisfied: tqdm>=4.27 in /usr/local/lib/python3.10/dist-packages (from transformers) (4.65.0)\n",
            "Requirement already satisfied: fsspec in /usr/local/lib/python3.10/dist-packages (from huggingface-hub<1.0,>=0.14.1->transformers) (2023.4.0)\n",
            "Requirement already satisfied: typing-extensions>=3.7.4.3 in /usr/local/lib/python3.10/dist-packages (from huggingface-hub<1.0,>=0.14.1->transformers) (4.5.0)\n",
            "Requirement already satisfied: urllib3<1.27,>=1.21.1 in /usr/local/lib/python3.10/dist-packages (from requests->transformers) (1.26.15)\n",
            "Requirement already satisfied: certifi>=2017.4.17 in /usr/local/lib/python3.10/dist-packages (from requests->transformers) (2022.12.7)\n",
            "Requirement already satisfied: charset-normalizer~=2.0.0 in /usr/local/lib/python3.10/dist-packages (from requests->transformers) (2.0.12)\n",
            "Requirement already satisfied: idna<4,>=2.5 in /usr/local/lib/python3.10/dist-packages (from requests->transformers) (3.4)\n",
            "Installing collected packages: tokenizers, huggingface-hub, transformers\n",
            "Successfully installed huggingface-hub-0.15.1 tokenizers-0.13.3 transformers-4.29.2\n"
          ]
        }
      ]
    },
    {
      "cell_type": "code",
      "execution_count": 3,
      "id": "german-senior",
      "metadata": {
        "execution": {
          "iopub.execute_input": "2023-01-13T12:00:58.657315Z",
          "iopub.status.busy": "2023-01-13T12:00:58.656681Z",
          "iopub.status.idle": "2023-01-13T12:01:05.902782Z",
          "shell.execute_reply": "2023-01-13T12:01:05.903215Z",
          "shell.execute_reply.started": "2023-01-13T11:55:43.966849Z"
        },
        "papermill": {
          "duration": 7.276566,
          "end_time": "2023-01-13T12:01:05.903510",
          "exception": false,
          "start_time": "2023-01-13T12:00:58.626944",
          "status": "completed"
        },
        "tags": [],
        "id": "german-senior"
      },
      "outputs": [],
      "source": [
        "import numpy as np\n",
        "import pandas as pd\n",
        "import time\n",
        "import datetime\n",
        "import gc\n",
        "import random\n",
        "from nltk.corpus import stopwords\n",
        "import re\n",
        "\n",
        "import torch\n",
        "import torch.nn as nn\n",
        "from torch.utils.data import TensorDataset, DataLoader, RandomSampler, SequentialSampler,random_split\n",
        "from sklearn.model_selection import train_test_split\n",
        "from sklearn.metrics import classification_report\n",
        "\n",
        "import transformers\n",
        "from transformers import BertForSequenceClassification, AdamW, BertConfig,BertTokenizer,get_linear_schedule_with_warmup\n"
      ]
    },
    {
      "cell_type": "code",
      "execution_count": 4,
      "id": "advanced-external",
      "metadata": {
        "execution": {
          "iopub.execute_input": "2023-01-13T12:01:06.010637Z",
          "iopub.status.busy": "2023-01-13T12:01:06.009870Z",
          "iopub.status.idle": "2023-01-13T12:01:06.013336Z",
          "shell.execute_reply": "2023-01-13T12:01:06.013767Z",
          "shell.execute_reply.started": "2023-01-13T11:55:51.489154Z"
        },
        "papermill": {
          "duration": 0.090814,
          "end_time": "2023-01-13T12:01:06.013907",
          "exception": false,
          "start_time": "2023-01-13T12:01:05.923093",
          "status": "completed"
        },
        "tags": [],
        "colab": {
          "base_uri": "https://localhost:8080/"
        },
        "id": "advanced-external",
        "outputId": "4c4672b0-153c-4818-f071-ab9c24ef2904"
      },
      "outputs": [
        {
          "output_type": "execute_result",
          "data": {
            "text/plain": [
              "device(type='cpu')"
            ]
          },
          "metadata": {},
          "execution_count": 4
        }
      ],
      "source": [
        "device = torch.device(\"cuda:0\" if torch.cuda.is_available() else \"cpu\")\n",
        "device"
      ]
    },
    {
      "cell_type": "code",
      "execution_count": 7,
      "id": "legitimate-carroll",
      "metadata": {
        "execution": {
          "iopub.execute_input": "2023-01-13T12:01:06.057483Z",
          "iopub.status.busy": "2023-01-13T12:01:06.056919Z",
          "iopub.status.idle": "2023-01-13T12:01:06.129923Z",
          "shell.execute_reply": "2023-01-13T12:01:06.128944Z",
          "shell.execute_reply.started": "2023-01-13T11:55:51.574983Z"
        },
        "papermill": {
          "duration": 0.096315,
          "end_time": "2023-01-13T12:01:06.130037",
          "exception": false,
          "start_time": "2023-01-13T12:01:06.033722",
          "status": "completed"
        },
        "tags": [],
        "colab": {
          "base_uri": "https://localhost:8080/",
          "height": 206
        },
        "id": "legitimate-carroll",
        "outputId": "952de728-c02e-4e60-e372-4acbde540009"
      },
      "outputs": [
        {
          "output_type": "execute_result",
          "data": {
            "text/plain": [
              "                                                text  label\n",
              "0  Generate me the report for number of registrat...      0\n",
              "1  I need a report showing the total number of re...      0\n",
              "2  How can I obtain a report detailing the number...      0\n",
              "3  Is it possible to generate a report that provi...      0\n",
              "4  Could you generate a report that presents the ...      0"
            ],
            "text/html": [
              "\n",
              "  <div id=\"df-72dc06b5-927c-4f7f-a51b-6055bb2dd955\">\n",
              "    <div class=\"colab-df-container\">\n",
              "      <div>\n",
              "<style scoped>\n",
              "    .dataframe tbody tr th:only-of-type {\n",
              "        vertical-align: middle;\n",
              "    }\n",
              "\n",
              "    .dataframe tbody tr th {\n",
              "        vertical-align: top;\n",
              "    }\n",
              "\n",
              "    .dataframe thead th {\n",
              "        text-align: right;\n",
              "    }\n",
              "</style>\n",
              "<table border=\"1\" class=\"dataframe\">\n",
              "  <thead>\n",
              "    <tr style=\"text-align: right;\">\n",
              "      <th></th>\n",
              "      <th>text</th>\n",
              "      <th>label</th>\n",
              "    </tr>\n",
              "  </thead>\n",
              "  <tbody>\n",
              "    <tr>\n",
              "      <th>0</th>\n",
              "      <td>Generate me the report for number of registrat...</td>\n",
              "      <td>0</td>\n",
              "    </tr>\n",
              "    <tr>\n",
              "      <th>1</th>\n",
              "      <td>I need a report showing the total number of re...</td>\n",
              "      <td>0</td>\n",
              "    </tr>\n",
              "    <tr>\n",
              "      <th>2</th>\n",
              "      <td>How can I obtain a report detailing the number...</td>\n",
              "      <td>0</td>\n",
              "    </tr>\n",
              "    <tr>\n",
              "      <th>3</th>\n",
              "      <td>Is it possible to generate a report that provi...</td>\n",
              "      <td>0</td>\n",
              "    </tr>\n",
              "    <tr>\n",
              "      <th>4</th>\n",
              "      <td>Could you generate a report that presents the ...</td>\n",
              "      <td>0</td>\n",
              "    </tr>\n",
              "  </tbody>\n",
              "</table>\n",
              "</div>\n",
              "      <button class=\"colab-df-convert\" onclick=\"convertToInteractive('df-72dc06b5-927c-4f7f-a51b-6055bb2dd955')\"\n",
              "              title=\"Convert this dataframe to an interactive table.\"\n",
              "              style=\"display:none;\">\n",
              "        \n",
              "  <svg xmlns=\"http://www.w3.org/2000/svg\" height=\"24px\"viewBox=\"0 0 24 24\"\n",
              "       width=\"24px\">\n",
              "    <path d=\"M0 0h24v24H0V0z\" fill=\"none\"/>\n",
              "    <path d=\"M18.56 5.44l.94 2.06.94-2.06 2.06-.94-2.06-.94-.94-2.06-.94 2.06-2.06.94zm-11 1L8.5 8.5l.94-2.06 2.06-.94-2.06-.94L8.5 2.5l-.94 2.06-2.06.94zm10 10l.94 2.06.94-2.06 2.06-.94-2.06-.94-.94-2.06-.94 2.06-2.06.94z\"/><path d=\"M17.41 7.96l-1.37-1.37c-.4-.4-.92-.59-1.43-.59-.52 0-1.04.2-1.43.59L10.3 9.45l-7.72 7.72c-.78.78-.78 2.05 0 2.83L4 21.41c.39.39.9.59 1.41.59.51 0 1.02-.2 1.41-.59l7.78-7.78 2.81-2.81c.8-.78.8-2.07 0-2.86zM5.41 20L4 18.59l7.72-7.72 1.47 1.35L5.41 20z\"/>\n",
              "  </svg>\n",
              "      </button>\n",
              "      \n",
              "  <style>\n",
              "    .colab-df-container {\n",
              "      display:flex;\n",
              "      flex-wrap:wrap;\n",
              "      gap: 12px;\n",
              "    }\n",
              "\n",
              "    .colab-df-convert {\n",
              "      background-color: #E8F0FE;\n",
              "      border: none;\n",
              "      border-radius: 50%;\n",
              "      cursor: pointer;\n",
              "      display: none;\n",
              "      fill: #1967D2;\n",
              "      height: 32px;\n",
              "      padding: 0 0 0 0;\n",
              "      width: 32px;\n",
              "    }\n",
              "\n",
              "    .colab-df-convert:hover {\n",
              "      background-color: #E2EBFA;\n",
              "      box-shadow: 0px 1px 2px rgba(60, 64, 67, 0.3), 0px 1px 3px 1px rgba(60, 64, 67, 0.15);\n",
              "      fill: #174EA6;\n",
              "    }\n",
              "\n",
              "    [theme=dark] .colab-df-convert {\n",
              "      background-color: #3B4455;\n",
              "      fill: #D2E3FC;\n",
              "    }\n",
              "\n",
              "    [theme=dark] .colab-df-convert:hover {\n",
              "      background-color: #434B5C;\n",
              "      box-shadow: 0px 1px 3px 1px rgba(0, 0, 0, 0.15);\n",
              "      filter: drop-shadow(0px 1px 2px rgba(0, 0, 0, 0.3));\n",
              "      fill: #FFFFFF;\n",
              "    }\n",
              "  </style>\n",
              "\n",
              "      <script>\n",
              "        const buttonEl =\n",
              "          document.querySelector('#df-72dc06b5-927c-4f7f-a51b-6055bb2dd955 button.colab-df-convert');\n",
              "        buttonEl.style.display =\n",
              "          google.colab.kernel.accessAllowed ? 'block' : 'none';\n",
              "\n",
              "        async function convertToInteractive(key) {\n",
              "          const element = document.querySelector('#df-72dc06b5-927c-4f7f-a51b-6055bb2dd955');\n",
              "          const dataTable =\n",
              "            await google.colab.kernel.invokeFunction('convertToInteractive',\n",
              "                                                     [key], {});\n",
              "          if (!dataTable) return;\n",
              "\n",
              "          const docLinkHtml = 'Like what you see? Visit the ' +\n",
              "            '<a target=\"_blank\" href=https://colab.research.google.com/notebooks/data_table.ipynb>data table notebook</a>'\n",
              "            + ' to learn more about interactive tables.';\n",
              "          element.innerHTML = '';\n",
              "          dataTable['output_type'] = 'display_data';\n",
              "          await google.colab.output.renderOutput(dataTable, element);\n",
              "          const docLink = document.createElement('div');\n",
              "          docLink.innerHTML = docLinkHtml;\n",
              "          element.appendChild(docLink);\n",
              "        }\n",
              "      </script>\n",
              "    </div>\n",
              "  </div>\n",
              "  "
            ]
          },
          "metadata": {},
          "execution_count": 7
        }
      ],
      "source": [
        "df = pd.read_csv(\"train.csv\")\n",
        "df.head()"
      ]
    },
    {
      "cell_type": "markdown",
      "id": "persistent-mortality",
      "metadata": {
        "execution": {
          "iopub.execute_input": "2021-05-29T09:17:08.032358Z",
          "iopub.status.busy": "2021-05-29T09:17:08.032003Z",
          "iopub.status.idle": "2021-05-29T09:17:08.039033Z",
          "shell.execute_reply": "2021-05-29T09:17:08.037761Z",
          "shell.execute_reply.started": "2021-05-29T09:17:08.032328Z"
        },
        "papermill": {
          "duration": 0.01968,
          "end_time": "2023-01-13T12:01:06.169467",
          "exception": false,
          "start_time": "2023-01-13T12:01:06.149787",
          "status": "completed"
        },
        "tags": [],
        "id": "persistent-mortality"
      },
      "source": [
        "# Data preprocessing\n",
        "\n",
        "We are using custom functions to perform the following tasks. Cleaning up the data for modeling should be carried out carefully and with the help of subject matter experts, if possible. This cleaning is done completely based on observation, and can not be considered as a generic preprocessing step for all the NLP tasks. This preprocessing function ensures:\n",
        "\n",
        "* Removing urls from tweet\n",
        "* Removing html tags\n",
        "* Removing punctuations\n",
        "* Removing stopwords\n",
        "* Removing emoji"
      ]
    },
    {
      "cell_type": "code",
      "source": [
        "import nltk\n",
        "nltk.download('stopwords')"
      ],
      "metadata": {
        "colab": {
          "base_uri": "https://localhost:8080/"
        },
        "id": "FBZTkqrrs7yA",
        "outputId": "01333fc9-fd15-4a26-a097-7c452abe902b"
      },
      "id": "FBZTkqrrs7yA",
      "execution_count": 11,
      "outputs": [
        {
          "output_type": "stream",
          "name": "stderr",
          "text": [
            "[nltk_data] Downloading package stopwords to /root/nltk_data...\n",
            "[nltk_data]   Unzipping corpora/stopwords.zip.\n"
          ]
        },
        {
          "output_type": "execute_result",
          "data": {
            "text/plain": [
              "True"
            ]
          },
          "metadata": {},
          "execution_count": 11
        }
      ]
    },
    {
      "cell_type": "code",
      "execution_count": 12,
      "id": "minute-muscle",
      "metadata": {
        "execution": {
          "iopub.execute_input": "2023-01-13T12:01:06.216062Z",
          "iopub.status.busy": "2023-01-13T12:01:06.215436Z",
          "iopub.status.idle": "2023-01-13T12:01:06.236509Z",
          "shell.execute_reply": "2023-01-13T12:01:06.236935Z",
          "shell.execute_reply.started": "2023-01-13T11:55:51.649506Z"
        },
        "papermill": {
          "duration": 0.047837,
          "end_time": "2023-01-13T12:01:06.237059",
          "exception": false,
          "start_time": "2023-01-13T12:01:06.189222",
          "status": "completed"
        },
        "tags": [],
        "id": "minute-muscle"
      },
      "outputs": [],
      "source": [
        "sw = stopwords.words('english')\n",
        "\n",
        "def clean_text(text):\n",
        "    \n",
        "    text = text.lower()\n",
        "    \n",
        "    text = re.sub(r\"[^a-zA-Z?.!,¿]+\", \" \", text) # replacing everything with space except (a-z, A-Z, \".\", \"?\", \"!\", \",\")\n",
        "\n",
        "    text = re.sub(r\"http\\S+\", \"\",text) #Removing URLs \n",
        "    #text = re.sub(r\"http\", \"\",text)\n",
        "    \n",
        "    html=re.compile(r'<.*?>') \n",
        "    \n",
        "    text = html.sub(r'',text) #Removing html tags\n",
        "    \n",
        "    punctuations = '@#!?+&*[]-%.:/();$=><|{}^' + \"'`\" + '_'\n",
        "    for p in punctuations:\n",
        "        text = text.replace(p,'') #Removing punctuations\n",
        "        \n",
        "    text = [word.lower() for word in text.split() if word.lower() not in sw]\n",
        "    \n",
        "    text = \" \".join(text) #removing stopwords\n",
        "    \n",
        "    emoji_pattern = re.compile(\"[\"\n",
        "                           u\"\\U0001F600-\\U0001F64F\"  # emoticons\n",
        "                           u\"\\U0001F300-\\U0001F5FF\"  # symbols & pictographs\n",
        "                           u\"\\U0001F680-\\U0001F6FF\"  # transport & map symbols\n",
        "                           u\"\\U0001F1E0-\\U0001F1FF\"  # flags (iOS)\n",
        "                           u\"\\U00002702-\\U000027B0\"\n",
        "                           u\"\\U000024C2-\\U0001F251\"\n",
        "                           \"]+\", flags=re.UNICODE)\n",
        "    text = emoji_pattern.sub(r'', text) #Removing emojis\n",
        "    \n",
        "    return text"
      ]
    },
    {
      "cell_type": "code",
      "execution_count": 13,
      "id": "removable-olive",
      "metadata": {
        "execution": {
          "iopub.execute_input": "2023-01-13T12:01:06.305884Z",
          "iopub.status.busy": "2023-01-13T12:01:06.300965Z",
          "iopub.status.idle": "2023-01-13T12:01:06.709075Z",
          "shell.execute_reply": "2023-01-13T12:01:06.708615Z",
          "shell.execute_reply.started": "2023-01-13T11:55:51.685665Z"
        },
        "papermill": {
          "duration": 0.452481,
          "end_time": "2023-01-13T12:01:06.709193",
          "exception": false,
          "start_time": "2023-01-13T12:01:06.256712",
          "status": "completed"
        },
        "tags": [],
        "id": "removable-olive"
      },
      "outputs": [],
      "source": [
        "df['text'] = df['text'].apply(lambda x: clean_text(x))"
      ]
    },
    {
      "cell_type": "code",
      "execution_count": 16,
      "id": "outer-logic",
      "metadata": {
        "execution": {
          "iopub.execute_input": "2023-01-13T12:01:06.753484Z",
          "iopub.status.busy": "2023-01-13T12:01:06.752800Z",
          "iopub.status.idle": "2023-01-13T12:01:06.755066Z",
          "shell.execute_reply": "2023-01-13T12:01:06.755588Z",
          "shell.execute_reply.started": "2023-01-13T11:55:52.127103Z"
        },
        "papermill": {
          "duration": 0.02622,
          "end_time": "2023-01-13T12:01:06.755726",
          "exception": false,
          "start_time": "2023-01-13T12:01:06.729506",
          "status": "completed"
        },
        "tags": [],
        "id": "outer-logic"
      },
      "outputs": [],
      "source": [
        "tweets = df.text.values\n",
        "labels = df.label.values"
      ]
    },
    {
      "cell_type": "markdown",
      "id": "demographic-intention",
      "metadata": {
        "papermill": {
          "duration": 0.01945,
          "end_time": "2023-01-13T12:01:06.795106",
          "exception": false,
          "start_time": "2023-01-13T12:01:06.775656",
          "status": "completed"
        },
        "tags": [],
        "id": "demographic-intention"
      },
      "source": [
        "### BERT Tokenizer\n",
        "\n",
        "In BERT, WordPiece tokenizer (a subword tokenizer) is used for tokenization. A word can be broken down into more than one sub-word, which helps in dealing with unknown words. For best results, it is adviced to tokenize with the same tokenizer the BERT model was trained on. \n",
        "\n",
        "Next, we need to convert each token to an id as present in the tokenizer vocabulary. If there’s a token that is not present in the vocabulary, the tokenizer will use the special [UNK] token and use its id.\n",
        "\n"
      ]
    },
    {
      "cell_type": "code",
      "execution_count": 17,
      "id": "referenced-enhancement",
      "metadata": {
        "execution": {
          "iopub.execute_input": "2023-01-13T12:01:06.838289Z",
          "iopub.status.busy": "2023-01-13T12:01:06.837502Z",
          "iopub.status.idle": "2023-01-13T12:01:16.112662Z",
          "shell.execute_reply": "2023-01-13T12:01:16.112137Z",
          "shell.execute_reply.started": "2023-01-13T11:55:52.133577Z"
        },
        "papermill": {
          "duration": 9.298025,
          "end_time": "2023-01-13T12:01:16.112797",
          "exception": false,
          "start_time": "2023-01-13T12:01:06.814772",
          "status": "completed"
        },
        "tags": [],
        "colab": {
          "base_uri": "https://localhost:8080/",
          "height": 113,
          "referenced_widgets": [
            "7fe6abdcb6484a4d99f2b9aaac8c2a07",
            "73b25999309e404d98a9564496093ca9",
            "4892241eb6cc45809a6f51862ede6787",
            "27394139e4344bd78faf662c75d4819e",
            "54b38bbcd9a340b2aae6ab7983a6588a",
            "0f62f02601e9409bbbb0b1f4550f7591",
            "a7e3784be1cc43d6aa42d91abe6b67c3",
            "6b1ea99a202445959e18c549bbba659b",
            "f16ba75e64d84718ad5c9ed94975a84e",
            "77438aa57ef64479b9e34bd26635df53",
            "3f264d00a0434afca336a298f3233e92",
            "f05fe9aeefcf4303827603f70b9336ab",
            "c9eda7fba57b4a349f3744197935aa3c",
            "80dc3a08cec54df08eb3549cf62afde9",
            "ca8973d242ce429586f985aa0b413c4a",
            "9eaac1df58f14e918a7d63a8845ab2e2",
            "176ee53262c24b0aba0feb182f1b1c10",
            "c49d9a7446354a16b74e6577903af9e6",
            "1f4cc2fbda2040b2a049b69a1d3f2f2d",
            "fd7bf7583be94af3a898f903b576680f",
            "1dc1ee38b8ef4e1fb8b0ae5a9247243a",
            "c8a461a8463449bdbd61e0dafcbeb1e8",
            "0f84470c81af446fae5ab014e0acbf30",
            "b7f1650cc39c4194997f9dbb009c068f",
            "ab4fe04504e84fcf812665b678bf6c83",
            "abe90398242e4174aa5139d3e8ff839a",
            "6adfe51a887f45bd92176db526eb4ade",
            "23d615af0cb94e34ab9bda369c8deea0",
            "e995272a47ea43f5801b4c0dc5a988b0",
            "81eca27a45a2495c8a3f29dd838b777b",
            "38ae84bf89714ecea392f209d2f63fd5",
            "fd8cfc907f94457aa9a944e9968b4f80",
            "4301a41f60c7465aa907e85e3bab7516"
          ]
        },
        "id": "referenced-enhancement",
        "outputId": "fb8239f5-a197-4452-a9d1-a7e5ee066e0b"
      },
      "outputs": [
        {
          "output_type": "display_data",
          "data": {
            "text/plain": [
              "Downloading (…)solve/main/vocab.txt:   0%|          | 0.00/232k [00:00<?, ?B/s]"
            ],
            "application/vnd.jupyter.widget-view+json": {
              "version_major": 2,
              "version_minor": 0,
              "model_id": "7fe6abdcb6484a4d99f2b9aaac8c2a07"
            }
          },
          "metadata": {}
        },
        {
          "output_type": "display_data",
          "data": {
            "text/plain": [
              "Downloading (…)okenizer_config.json:   0%|          | 0.00/28.0 [00:00<?, ?B/s]"
            ],
            "application/vnd.jupyter.widget-view+json": {
              "version_major": 2,
              "version_minor": 0,
              "model_id": "f05fe9aeefcf4303827603f70b9336ab"
            }
          },
          "metadata": {}
        },
        {
          "output_type": "display_data",
          "data": {
            "text/plain": [
              "Downloading (…)lve/main/config.json:   0%|          | 0.00/570 [00:00<?, ?B/s]"
            ],
            "application/vnd.jupyter.widget-view+json": {
              "version_major": 2,
              "version_minor": 0,
              "model_id": "0f84470c81af446fae5ab014e0acbf30"
            }
          },
          "metadata": {}
        }
      ],
      "source": [
        "# Load the BERT tokenizer\n",
        "tokenizer = BertTokenizer.from_pretrained('bert-base-uncased', do_lower_case=True)"
      ]
    },
    {
      "cell_type": "code",
      "execution_count": 18,
      "id": "impressive-insertion",
      "metadata": {
        "execution": {
          "iopub.execute_input": "2023-01-13T12:01:16.160040Z",
          "iopub.status.busy": "2023-01-13T12:01:16.159317Z",
          "iopub.status.idle": "2023-01-13T12:01:16.165738Z",
          "shell.execute_reply": "2023-01-13T12:01:16.166341Z",
          "shell.execute_reply.started": "2023-01-13T11:56:01.387441Z"
        },
        "papermill": {
          "duration": 0.031735,
          "end_time": "2023-01-13T12:01:16.166519",
          "exception": false,
          "start_time": "2023-01-13T12:01:16.134784",
          "status": "completed"
        },
        "tags": [],
        "colab": {
          "base_uri": "https://localhost:8080/"
        },
        "id": "impressive-insertion",
        "outputId": "dc4c4309-0b0a-4678-b89c-bc1bb91da76b"
      },
      "outputs": [
        {
          "output_type": "stream",
          "name": "stdout",
          "text": [
            " Original:  generate report number registration\n",
            "Tokenized:  ['generate', 'report', 'number', 'registration']\n",
            "Token IDs:  [9699, 3189, 2193, 8819]\n"
          ]
        }
      ],
      "source": [
        "print(' Original: ', tweets[0])\n",
        "\n",
        "# Print the sentence split into tokens.\n",
        "print('Tokenized: ', tokenizer.tokenize(tweets[0]))\n",
        "\n",
        "# Print the sentence mapped to token ids.\n",
        "print('Token IDs: ', tokenizer.convert_tokens_to_ids(tokenizer.tokenize(tweets[0])))"
      ]
    },
    {
      "cell_type": "code",
      "execution_count": 19,
      "id": "historical-franklin",
      "metadata": {
        "execution": {
          "iopub.execute_input": "2023-01-13T12:01:16.222436Z",
          "iopub.status.busy": "2023-01-13T12:01:16.218015Z",
          "iopub.status.idle": "2023-01-13T12:01:19.628399Z",
          "shell.execute_reply": "2023-01-13T12:01:19.627441Z",
          "shell.execute_reply.started": "2023-01-13T11:56:01.398364Z"
        },
        "papermill": {
          "duration": 3.440371,
          "end_time": "2023-01-13T12:01:19.628583",
          "exception": false,
          "start_time": "2023-01-13T12:01:16.188212",
          "status": "completed"
        },
        "tags": [],
        "colab": {
          "base_uri": "https://localhost:8080/"
        },
        "id": "historical-franklin",
        "outputId": "48911d2f-67f3-4e03-c9b6-05b2ee9d4cdc"
      },
      "outputs": [
        {
          "output_type": "stream",
          "name": "stdout",
          "text": [
            "Max sentence length:  11\n"
          ]
        }
      ],
      "source": [
        "max_len = 0\n",
        "\n",
        "# For every sentence...\n",
        "for sent in tweets:\n",
        "\n",
        "    # Tokenize the text and add `[CLS]` and `[SEP]` tokens.\n",
        "    input_ids = tokenizer.encode(sent, add_special_tokens=True)\n",
        "\n",
        "    # Update the maximum sentence length.\n",
        "    max_len = max(max_len, len(input_ids))\n",
        "\n",
        "print('Max sentence length: ', max_len)"
      ]
    },
    {
      "cell_type": "code",
      "execution_count": 20,
      "id": "outer-baker",
      "metadata": {
        "execution": {
          "iopub.execute_input": "2023-01-13T12:01:19.679099Z",
          "iopub.status.busy": "2023-01-13T12:01:19.678422Z",
          "iopub.status.idle": "2023-01-13T12:01:23.654487Z",
          "shell.execute_reply": "2023-01-13T12:01:23.655127Z",
          "shell.execute_reply.started": "2023-01-13T11:56:05.077296Z"
        },
        "papermill": {
          "duration": 4.00423,
          "end_time": "2023-01-13T12:01:23.655344",
          "exception": false,
          "start_time": "2023-01-13T12:01:19.651114",
          "status": "completed"
        },
        "tags": [],
        "colab": {
          "base_uri": "https://localhost:8080/"
        },
        "id": "outer-baker",
        "outputId": "111a28fe-7335-4799-c38e-43f01872d09a"
      },
      "outputs": [
        {
          "output_type": "stream",
          "name": "stderr",
          "text": [
            "Truncation was not explicitly activated but `max_length` is provided a specific value, please use `truncation=True` to explicitly truncate examples to max length. Defaulting to 'longest_first' truncation strategy. If you encode pairs of sequences (GLUE-style) with the tokenizer you can select this strategy more precisely by providing a specific strategy to `truncation`.\n"
          ]
        },
        {
          "output_type": "stream",
          "name": "stdout",
          "text": [
            "Original:  generate report number registration\n",
            "Token IDs: tensor([ 101, 9699, 3189, 2193, 8819,  102,    0,    0,    0,    0,    0])\n"
          ]
        },
        {
          "output_type": "stream",
          "name": "stderr",
          "text": [
            "/usr/local/lib/python3.10/dist-packages/transformers/tokenization_utils_base.py:2364: FutureWarning: The `pad_to_max_length` argument is deprecated and will be removed in a future version, use `padding=True` or `padding='longest'` to pad to the longest sequence in the batch, or use `padding='max_length'` to pad to a max length. In this case, you can give a specific length with `max_length` (e.g. `max_length=45`) or leave max_length to None to pad to the maximal input size of the model (e.g. 512 for Bert).\n",
            "  warnings.warn(\n"
          ]
        }
      ],
      "source": [
        "input_ids = []\n",
        "attention_masks = []\n",
        "\n",
        "# For every tweet...\n",
        "for tweet in tweets:\n",
        "    # `encode_plus` will:\n",
        "    #   (1) Tokenize the sentence.\n",
        "    #   (2) Prepend the `[CLS]` token to the start.\n",
        "    #   (3) Append the `[SEP]` token to the end.\n",
        "    #   (4) Map tokens to their IDs.\n",
        "    #   (5) Pad or truncate the sentence to `max_length`\n",
        "    #   (6) Create attention masks for [PAD] tokens.\n",
        "    encoded_dict = tokenizer.encode_plus(\n",
        "                        tweet,                      # Sentence to encode.\n",
        "                        add_special_tokens = True, # Add '[CLS]' and '[SEP]'\n",
        "                        max_length = max_len,           # Pad & truncate all sentences.\n",
        "                        pad_to_max_length = True,\n",
        "                        return_attention_mask = True,   # Construct attn. masks.\n",
        "                        return_tensors = 'pt',     # Return pytorch tensors.\n",
        "                   )\n",
        "    \n",
        "    # Add the encoded sentence to the list.    \n",
        "    input_ids.append(encoded_dict['input_ids'])\n",
        "    \n",
        "    # And its attention mask (simply differentiates padding from non-padding).\n",
        "    attention_masks.append(encoded_dict['attention_mask'])\n",
        "\n",
        "# Convert the lists into tensors.\n",
        "input_ids = torch.cat(input_ids, dim=0)\n",
        "attention_masks = torch.cat(attention_masks, dim=0)\n",
        "labels = torch.tensor(labels)\n",
        "\n",
        "# Print sentence 0, now as a list of IDs.\n",
        "print('Original: ', tweets[0])\n",
        "print('Token IDs:', input_ids[0])"
      ]
    },
    {
      "cell_type": "markdown",
      "id": "exempt-interview",
      "metadata": {
        "papermill": {
          "duration": 0.02212,
          "end_time": "2023-01-13T12:01:23.701088",
          "exception": false,
          "start_time": "2023-01-13T12:01:23.678968",
          "status": "completed"
        },
        "tags": [],
        "id": "exempt-interview"
      },
      "source": [
        "#### Train-validation split\n",
        "80% of data is split into train and 20% to validation sets."
      ]
    },
    {
      "cell_type": "code",
      "execution_count": 21,
      "id": "beautiful-musician",
      "metadata": {
        "execution": {
          "iopub.execute_input": "2023-01-13T12:01:23.752507Z",
          "iopub.status.busy": "2023-01-13T12:01:23.751882Z",
          "iopub.status.idle": "2023-01-13T12:01:23.757735Z",
          "shell.execute_reply": "2023-01-13T12:01:23.757287Z",
          "shell.execute_reply.started": "2023-01-13T11:56:09.118042Z"
        },
        "papermill": {
          "duration": 0.03461,
          "end_time": "2023-01-13T12:01:23.757848",
          "exception": false,
          "start_time": "2023-01-13T12:01:23.723238",
          "status": "completed"
        },
        "tags": [],
        "colab": {
          "base_uri": "https://localhost:8080/"
        },
        "id": "beautiful-musician",
        "outputId": "c6b4afd4-04b9-4e29-a53e-c4a924f67445"
      },
      "outputs": [
        {
          "output_type": "stream",
          "name": "stdout",
          "text": [
            "   32 training samples\n",
            "    9 validation samples\n"
          ]
        }
      ],
      "source": [
        "\n",
        "# Combine the training inputs into a TensorDataset.\n",
        "dataset = TensorDataset(input_ids, attention_masks, labels)\n",
        "\n",
        "# Create a 90-10 train-validation split.\n",
        "\n",
        "# Calculate the number of samples to include in each set.\n",
        "train_size = int(0.8 * len(dataset))\n",
        "#val_size = int(0.2 * len(dataset))\n",
        "val_size = len(dataset)  - train_size\n",
        "\n",
        "# Divide the dataset by randomly selecting samples.\n",
        "train_dataset, val_dataset = random_split(dataset, [train_size, val_size])\n",
        "\n",
        "print('{:>5,} training samples'.format(train_size))\n",
        "print('{:>5,} validation samples'.format(val_size))"
      ]
    },
    {
      "cell_type": "code",
      "execution_count": 22,
      "id": "closed-advocate",
      "metadata": {
        "execution": {
          "iopub.execute_input": "2023-01-13T12:01:23.807052Z",
          "iopub.status.busy": "2023-01-13T12:01:23.806538Z",
          "iopub.status.idle": "2023-01-13T12:01:23.810344Z",
          "shell.execute_reply": "2023-01-13T12:01:23.809912Z",
          "shell.execute_reply.started": "2023-01-13T11:56:09.129688Z"
        },
        "papermill": {
          "duration": 0.029888,
          "end_time": "2023-01-13T12:01:23.810462",
          "exception": false,
          "start_time": "2023-01-13T12:01:23.780574",
          "status": "completed"
        },
        "tags": [],
        "id": "closed-advocate"
      },
      "outputs": [],
      "source": [
        "\n",
        "# The DataLoader needs to know our batch size for training, so we specify it \n",
        "# here. For fine-tuning BERT on a specific task, the authors recommend a batch \n",
        "# size of 16 or 32.\n",
        "batch_size = 32\n",
        "\n",
        "# Create the DataLoaders for our training and validation sets.\n",
        "# We'll take training samples in random order. \n",
        "train_dataloader = DataLoader(\n",
        "            train_dataset,  # The training samples.\n",
        "            sampler = RandomSampler(train_dataset), # Select batches randomly\n",
        "            batch_size = batch_size # Trains with this batch size.\n",
        "        )\n",
        "\n",
        "# For validation the order doesn't matter, so we'll just read them sequentially.\n",
        "validation_dataloader = DataLoader(\n",
        "            val_dataset, # The validation samples.\n",
        "            sampler = SequentialSampler(val_dataset), # Pull out batches sequentially.\n",
        "            batch_size = batch_size # Evaluate with this batch size.\n",
        "        )"
      ]
    },
    {
      "cell_type": "code",
      "execution_count": 23,
      "id": "foster-offering",
      "metadata": {
        "execution": {
          "iopub.execute_input": "2023-01-13T12:01:23.860087Z",
          "iopub.status.busy": "2023-01-13T12:01:23.859465Z",
          "iopub.status.idle": "2023-01-13T12:02:14.824859Z",
          "shell.execute_reply": "2023-01-13T12:02:14.824337Z",
          "shell.execute_reply.started": "2023-01-13T11:56:09.137041Z"
        },
        "papermill": {
          "duration": 50.992405,
          "end_time": "2023-01-13T12:02:14.825002",
          "exception": false,
          "start_time": "2023-01-13T12:01:23.832597",
          "status": "completed"
        },
        "tags": [],
        "colab": {
          "base_uri": "https://localhost:8080/",
          "height": 158,
          "referenced_widgets": [
            "9a97b41e053044dabaef4b477472756c",
            "69eba0cba505423881d9f28b7704b58f",
            "3156228bb63c47d8b9360eb9db1165e7",
            "917f656b3b5c4215b1080f28001143c8",
            "4bce3ede48214cf2bbec98ca7168fced",
            "713115003af94c4f967045abaa8c25f0",
            "345e59ead9f7444c950a8d73e32e0763",
            "e89b064d9fcf45fbbd0638cf0771133c",
            "6fe1ca9d103a458d9fd3b7b7fb85ce62",
            "8f68cd43724c4d67827c7b8e3dd862d8",
            "6a044223d5604461bf73f64727bd565e"
          ]
        },
        "id": "foster-offering",
        "outputId": "c7d87e3d-25f1-48ee-b7e6-0cc1b4b15f79"
      },
      "outputs": [
        {
          "output_type": "display_data",
          "data": {
            "text/plain": [
              "Downloading pytorch_model.bin:   0%|          | 0.00/440M [00:00<?, ?B/s]"
            ],
            "application/vnd.jupyter.widget-view+json": {
              "version_major": 2,
              "version_minor": 0,
              "model_id": "9a97b41e053044dabaef4b477472756c"
            }
          },
          "metadata": {}
        },
        {
          "output_type": "stream",
          "name": "stderr",
          "text": [
            "Some weights of the model checkpoint at bert-base-uncased were not used when initializing BertForSequenceClassification: ['cls.predictions.transform.dense.weight', 'cls.seq_relationship.bias', 'cls.predictions.bias', 'cls.predictions.decoder.weight', 'cls.predictions.transform.dense.bias', 'cls.seq_relationship.weight', 'cls.predictions.transform.LayerNorm.weight', 'cls.predictions.transform.LayerNorm.bias']\n",
            "- This IS expected if you are initializing BertForSequenceClassification from the checkpoint of a model trained on another task or with another architecture (e.g. initializing a BertForSequenceClassification model from a BertForPreTraining model).\n",
            "- This IS NOT expected if you are initializing BertForSequenceClassification from the checkpoint of a model that you expect to be exactly identical (initializing a BertForSequenceClassification model from a BertForSequenceClassification model).\n",
            "Some weights of BertForSequenceClassification were not initialized from the model checkpoint at bert-base-uncased and are newly initialized: ['classifier.weight', 'classifier.bias']\n",
            "You should probably TRAIN this model on a down-stream task to be able to use it for predictions and inference.\n"
          ]
        }
      ],
      "source": [
        "\n",
        "# Load BertForSequenceClassification, the pretrained BERT model with a single \n",
        "# linear classification layer on top. \n",
        "model = BertForSequenceClassification.from_pretrained(\n",
        "    \"bert-base-uncased\", # Use the 12-layer BERT model, with an uncased vocab.\n",
        "    num_labels = 2, # The number of output labels--2 for binary classification.\n",
        "                    # You can increase this for multi-class tasks.   \n",
        "    output_attentions = False, # Whether the model returns attentions weights.\n",
        "    output_hidden_states = False, # Whether the model returns all hidden-states.\n",
        ")\n",
        "\n",
        "# if device == \"cuda:0\":\n",
        "# # Tell pytorch to run this model on the GPU.\n",
        "#     model = model.cuda()\n",
        "model = model.to(device)"
      ]
    },
    {
      "cell_type": "code",
      "execution_count": 24,
      "id": "wound-bride",
      "metadata": {
        "execution": {
          "iopub.execute_input": "2023-01-13T12:02:14.881529Z",
          "iopub.status.busy": "2023-01-13T12:02:14.880823Z",
          "iopub.status.idle": "2023-01-13T12:02:14.883215Z",
          "shell.execute_reply": "2023-01-13T12:02:14.883801Z",
          "shell.execute_reply.started": "2023-01-13T11:57:00.647689Z"
        },
        "papermill": {
          "duration": 0.034601,
          "end_time": "2023-01-13T12:02:14.883939",
          "exception": false,
          "start_time": "2023-01-13T12:02:14.849338",
          "status": "completed"
        },
        "tags": [],
        "colab": {
          "base_uri": "https://localhost:8080/"
        },
        "id": "wound-bride",
        "outputId": "2d53aed1-7fb5-4cc3-de56-c4f0e5fcb761"
      },
      "outputs": [
        {
          "output_type": "stream",
          "name": "stderr",
          "text": [
            "/usr/local/lib/python3.10/dist-packages/transformers/optimization.py:407: FutureWarning: This implementation of AdamW is deprecated and will be removed in a future version. Use the PyTorch implementation torch.optim.AdamW instead, or set `no_deprecation_warning=True` to disable this warning\n",
            "  warnings.warn(\n"
          ]
        }
      ],
      "source": [
        "optimizer = AdamW(model.parameters(),\n",
        "                  lr = 2e-5, # args.learning_rate - default is 5e-5, our notebook had 2e-5\n",
        "                  eps = 1e-8 # args.adam_epsilon  - default is 1e-8.\n",
        "                )"
      ]
    },
    {
      "cell_type": "markdown",
      "id": "reverse-issue",
      "metadata": {
        "papermill": {
          "duration": 0.023482,
          "end_time": "2023-01-13T12:02:14.931802",
          "exception": false,
          "start_time": "2023-01-13T12:02:14.908320",
          "status": "completed"
        },
        "tags": [],
        "id": "reverse-issue"
      },
      "source": [
        "# Fine tuning the model"
      ]
    },
    {
      "cell_type": "code",
      "execution_count": 25,
      "id": "roman-transcription",
      "metadata": {
        "execution": {
          "iopub.execute_input": "2023-01-13T12:02:14.983679Z",
          "iopub.status.busy": "2023-01-13T12:02:14.982991Z",
          "iopub.status.idle": "2023-01-13T12:02:14.985770Z",
          "shell.execute_reply": "2023-01-13T12:02:14.985292Z",
          "shell.execute_reply.started": "2023-01-13T11:57:00.657567Z"
        },
        "papermill": {
          "duration": 0.030227,
          "end_time": "2023-01-13T12:02:14.985876",
          "exception": false,
          "start_time": "2023-01-13T12:02:14.955649",
          "status": "completed"
        },
        "tags": [],
        "id": "roman-transcription"
      },
      "outputs": [],
      "source": [
        "\n",
        "# Number of training epochs. The BERT authors recommend between 2 and 4. \n",
        "# We chose to run for 4, but we'll see later that this may be over-fitting the\n",
        "# training data.\n",
        "epochs = 4\n",
        "\n",
        "# Total number of training steps is [number of batches] x [number of epochs]. \n",
        "# (Note that this is not the same as the number of training samples).\n",
        "total_steps = len(train_dataloader) * epochs\n",
        "\n",
        "# Create the learning rate scheduler.\n",
        "scheduler = get_linear_schedule_with_warmup(optimizer, \n",
        "                                            num_warmup_steps = 0, # Default value in run_glue.py\n",
        "                                            num_training_steps = total_steps)"
      ]
    },
    {
      "cell_type": "code",
      "execution_count": 26,
      "id": "expected-preference",
      "metadata": {
        "execution": {
          "iopub.execute_input": "2023-01-13T12:02:15.037684Z",
          "iopub.status.busy": "2023-01-13T12:02:15.036921Z",
          "iopub.status.idle": "2023-01-13T12:02:15.039824Z",
          "shell.execute_reply": "2023-01-13T12:02:15.039339Z",
          "shell.execute_reply.started": "2023-01-13T11:57:00.670465Z"
        },
        "papermill": {
          "duration": 0.030415,
          "end_time": "2023-01-13T12:02:15.039936",
          "exception": false,
          "start_time": "2023-01-13T12:02:15.009521",
          "status": "completed"
        },
        "tags": [],
        "id": "expected-preference"
      },
      "outputs": [],
      "source": [
        "# Function to calculate the accuracy of our predictions vs labels\n",
        "def flat_accuracy(preds, labels):\n",
        "    pred_flat = np.argmax(preds, axis=1).flatten()\n",
        "    labels_flat = labels.flatten()\n",
        "    return np.sum(pred_flat == labels_flat) / len(labels_flat)"
      ]
    },
    {
      "cell_type": "code",
      "execution_count": 27,
      "id": "smaller-paint",
      "metadata": {
        "execution": {
          "iopub.execute_input": "2023-01-13T12:02:15.091502Z",
          "iopub.status.busy": "2023-01-13T12:02:15.090847Z",
          "iopub.status.idle": "2023-01-13T12:02:15.093148Z",
          "shell.execute_reply": "2023-01-13T12:02:15.093794Z",
          "shell.execute_reply.started": "2023-01-13T11:57:00.683215Z"
        },
        "papermill": {
          "duration": 0.030401,
          "end_time": "2023-01-13T12:02:15.093945",
          "exception": false,
          "start_time": "2023-01-13T12:02:15.063544",
          "status": "completed"
        },
        "tags": [],
        "id": "smaller-paint"
      },
      "outputs": [],
      "source": [
        "def format_time(elapsed):\n",
        "    '''\n",
        "    Takes a time in seconds and returns a string hh:mm:ss\n",
        "    '''\n",
        "    # Round to the nearest second.\n",
        "    elapsed_rounded = int(round((elapsed)))\n",
        "    # Format as hh:mm:ss\n",
        "    return str(datetime.timedelta(seconds=elapsed_rounded))"
      ]
    },
    {
      "cell_type": "code",
      "execution_count": 28,
      "id": "arbitrary-folks",
      "metadata": {
        "execution": {
          "iopub.execute_input": "2023-01-13T12:02:15.157326Z",
          "iopub.status.busy": "2023-01-13T12:02:15.149003Z",
          "iopub.status.idle": "2023-01-13T12:04:40.608526Z",
          "shell.execute_reply": "2023-01-13T12:04:40.609111Z",
          "shell.execute_reply.started": "2023-01-13T11:57:00.692446Z"
        },
        "papermill": {
          "duration": 145.491788,
          "end_time": "2023-01-13T12:04:40.609323",
          "exception": false,
          "start_time": "2023-01-13T12:02:15.117535",
          "status": "completed"
        },
        "tags": [],
        "colab": {
          "base_uri": "https://localhost:8080/"
        },
        "id": "arbitrary-folks",
        "outputId": "c84f459c-07d8-4b1a-b4a6-a14ccb5bb505"
      },
      "outputs": [
        {
          "output_type": "stream",
          "name": "stdout",
          "text": [
            "\n",
            "======== Epoch 1 / 4 ========\n",
            "Training...\n",
            "\n",
            "  Average training loss: 0.72\n",
            "  Training epcoh took: 0:00:03\n",
            "\n",
            "Running Validation...\n",
            "  Accuracy: 1.00\n",
            "\n",
            "======== Epoch 2 / 4 ========\n",
            "Training...\n",
            "\n",
            "  Average training loss: 0.60\n",
            "  Training epcoh took: 0:00:03\n",
            "\n",
            "Running Validation...\n",
            "  Accuracy: 1.00\n",
            "\n",
            "======== Epoch 3 / 4 ========\n",
            "Training...\n",
            "\n",
            "  Average training loss: 0.54\n",
            "  Training epcoh took: 0:00:03\n",
            "\n",
            "Running Validation...\n",
            "  Accuracy: 1.00\n",
            "\n",
            "======== Epoch 4 / 4 ========\n",
            "Training...\n",
            "\n",
            "  Average training loss: 0.52\n",
            "  Training epcoh took: 0:00:03\n",
            "\n",
            "Running Validation...\n",
            "  Accuracy: 1.00\n",
            "\n",
            "Training complete!\n",
            "Total training took 0:00:24 (h:mm:ss)\n"
          ]
        }
      ],
      "source": [
        "seed_val = 42\n",
        "random.seed(seed_val)\n",
        "np.random.seed(seed_val)\n",
        "torch.manual_seed(seed_val)\n",
        "torch.cuda.manual_seed_all(seed_val)\n",
        "training_stats = []\n",
        "\n",
        "# Measure the total training time for the whole run.\n",
        "total_t0 = time.time()\n",
        "\n",
        "# For each epoch...\n",
        "for epoch_i in range(0, epochs):\n",
        "    \n",
        "    # ========================================\n",
        "    #               Training\n",
        "    # ========================================\n",
        "    # Perform one full pass over the training set.\n",
        "    print(\"\")\n",
        "    print('======== Epoch {:} / {:} ========'.format(epoch_i + 1, epochs))\n",
        "    print('Training...')\n",
        "    # Measure how long the training epoch takes.\n",
        "    t0 = time.time()\n",
        "    total_train_loss = 0\n",
        "    model.train()\n",
        "    for step, batch in enumerate(train_dataloader):\n",
        "        # Unpack this training batch from our dataloader. \n",
        "        #\n",
        "        # As we unpack the batch, we'll also copy each tensor to the device using the \n",
        "        # `to` method.\n",
        "        #\n",
        "        # `batch` contains three pytorch tensors:\n",
        "        #   [0]: input ids \n",
        "        #   [1]: attention masks\n",
        "        #   [2]: labels \n",
        "        b_input_ids = batch[0].to(device)\n",
        "        b_input_mask = batch[1].to(device)\n",
        "        b_labels = batch[2].to(device)\n",
        "        optimizer.zero_grad()\n",
        "        output = model(b_input_ids, \n",
        "                             token_type_ids=None, \n",
        "                             attention_mask=b_input_mask, \n",
        "                             labels=b_labels)        \n",
        "        loss = output.loss\n",
        "        total_train_loss += loss.item()\n",
        "        # Perform a backward pass to calculate the gradients.\n",
        "        loss.backward()\n",
        "        # Clip the norm of the gradients to 1.0.\n",
        "        # This is to help prevent the \"exploding gradients\" problem.\n",
        "        torch.nn.utils.clip_grad_norm_(model.parameters(), 1.0)\n",
        "        # Update parameters and take a step using the computed gradient.\n",
        "        # The optimizer dictates the \"update rule\"--how the parameters are\n",
        "        # modified based on their gradients, the learning rate, etc.\n",
        "        optimizer.step()\n",
        "        # Update the learning rate.\n",
        "        scheduler.step()\n",
        "\n",
        "    # Calculate the average loss over all of the batches.\n",
        "    avg_train_loss = total_train_loss / len(train_dataloader)            \n",
        "    \n",
        "    # Measure how long this epoch took.\n",
        "    training_time = format_time(time.time() - t0)\n",
        "    print(\"\")\n",
        "    print(\"  Average training loss: {0:.2f}\".format(avg_train_loss))\n",
        "    print(\"  Training epcoh took: {:}\".format(training_time))\n",
        "    # ========================================\n",
        "    #               Validation\n",
        "    # ========================================\n",
        "    # After the completion of each training epoch, measure our performance on\n",
        "    # our validation set.\n",
        "    print(\"\")\n",
        "    print(\"Running Validation...\")\n",
        "    t0 = time.time()\n",
        "    # Put the model in evaluation mode--the dropout layers behave differently\n",
        "    # during evaluation.\n",
        "    model.eval()\n",
        "    # Tracking variables \n",
        "    total_eval_accuracy = 0\n",
        "    best_eval_accuracy = 0\n",
        "    total_eval_loss = 0\n",
        "    nb_eval_steps = 0\n",
        "    # Evaluate data for one epoch\n",
        "    for batch in validation_dataloader:\n",
        "        b_input_ids = batch[0].to(device)\n",
        "        b_input_mask = batch[1].to(device)\n",
        "        b_labels = batch[2].to(device)\n",
        "        # Tell pytorch not to bother with constructing the compute graph during\n",
        "        # the forward pass, since this is only needed for backprop (training).\n",
        "        with torch.no_grad():        \n",
        "            output= model(b_input_ids, \n",
        "                                   token_type_ids=None, \n",
        "                                   attention_mask=b_input_mask,\n",
        "                                   labels=b_labels)\n",
        "        loss = output.loss\n",
        "        total_eval_loss += loss.item()\n",
        "        # Move logits and labels to CPU if we are using GPU\n",
        "        logits = output.logits\n",
        "        logits = logits.detach().cpu().numpy()\n",
        "        label_ids = b_labels.to('cpu').numpy()\n",
        "        # Calculate the accuracy for this batch of test sentences, and\n",
        "        # accumulate it over all batches.\n",
        "        total_eval_accuracy += flat_accuracy(logits, label_ids)\n",
        "    # Report the final accuracy for this validation run.\n",
        "    avg_val_accuracy = total_eval_accuracy / len(validation_dataloader)\n",
        "    print(\"  Accuracy: {0:.2f}\".format(avg_val_accuracy))\n",
        "    # Calculate the average loss over all of the batches.\n",
        "    avg_val_loss = total_eval_loss / len(validation_dataloader)\n",
        "    # Measure how long the validation run took.\n",
        "    validation_time = format_time(time.time() - t0)\n",
        "    if avg_val_accuracy > best_eval_accuracy:\n",
        "        torch.save(model, 'bert_model')\n",
        "        best_eval_accuracy = avg_val_accuracy\n",
        "    #print(\"  Validation Loss: {0:.2f}\".format(avg_val_loss))\n",
        "    #print(\"  Validation took: {:}\".format(validation_time))\n",
        "    # Record all statistics from this epoch.\n",
        "    training_stats.append(\n",
        "        {\n",
        "            'epoch': epoch_i + 1,\n",
        "            'Training Loss': avg_train_loss,\n",
        "            'Valid. Loss': avg_val_loss,\n",
        "            'Valid. Accur.': avg_val_accuracy,\n",
        "            'Training Time': training_time,\n",
        "            'Validation Time': validation_time\n",
        "        }\n",
        "    )\n",
        "print(\"\")\n",
        "print(\"Training complete!\")\n",
        "\n",
        "print(\"Total training took {:} (h:mm:ss)\".format(format_time(time.time()-total_t0)))"
      ]
    },
    {
      "cell_type": "markdown",
      "id": "mysterious-baseball",
      "metadata": {
        "papermill": {
          "duration": 0.026633,
          "end_time": "2023-01-13T12:04:40.663180",
          "exception": false,
          "start_time": "2023-01-13T12:04:40.636547",
          "status": "completed"
        },
        "tags": [],
        "id": "mysterious-baseball"
      },
      "source": [
        "# Loading the best model"
      ]
    },
    {
      "cell_type": "code",
      "execution_count": 29,
      "id": "employed-reality",
      "metadata": {
        "execution": {
          "iopub.execute_input": "2023-01-13T12:04:40.720383Z",
          "iopub.status.busy": "2023-01-13T12:04:40.719833Z",
          "iopub.status.idle": "2023-01-13T12:04:40.974137Z",
          "shell.execute_reply": "2023-01-13T12:04:40.973157Z",
          "shell.execute_reply.started": "2023-01-13T11:59:25.991941Z"
        },
        "papermill": {
          "duration": 0.284664,
          "end_time": "2023-01-13T12:04:40.974400",
          "exception": false,
          "start_time": "2023-01-13T12:04:40.689736",
          "status": "completed"
        },
        "tags": [],
        "id": "employed-reality"
      },
      "outputs": [],
      "source": [
        "model = torch.load('bert_model')"
      ]
    },
    {
      "cell_type": "markdown",
      "id": "daily-iraqi",
      "metadata": {
        "papermill": {
          "duration": 0.0317,
          "end_time": "2023-01-13T12:04:41.043785",
          "exception": false,
          "start_time": "2023-01-13T12:04:41.012085",
          "status": "completed"
        },
        "tags": [],
        "id": "daily-iraqi"
      },
      "source": [
        "# Submission"
      ]
    },
    {
      "cell_type": "code",
      "execution_count": 36,
      "id": "experienced-yesterday",
      "metadata": {
        "execution": {
          "iopub.execute_input": "2023-01-13T12:04:41.115117Z",
          "iopub.status.busy": "2023-01-13T12:04:41.114471Z",
          "iopub.status.idle": "2023-01-13T12:04:41.344202Z",
          "shell.execute_reply": "2023-01-13T12:04:41.343749Z",
          "shell.execute_reply.started": "2023-01-13T11:59:26.238513Z"
        },
        "papermill": {
          "duration": 0.268965,
          "end_time": "2023-01-13T12:04:41.344362",
          "exception": false,
          "start_time": "2023-01-13T12:04:41.075397",
          "status": "completed"
        },
        "tags": [],
        "id": "experienced-yesterday"
      },
      "outputs": [],
      "source": [
        "df_test = pd.read_csv('test.csv')\n",
        "df_test['text'] = df_test['text'].apply(lambda x:clean_text(x))\n",
        "test_tweets = df_test['text'].values"
      ]
    },
    {
      "cell_type": "code",
      "execution_count": 37,
      "id": "attached-comfort",
      "metadata": {
        "execution": {
          "iopub.execute_input": "2023-01-13T12:04:41.407842Z",
          "iopub.status.busy": "2023-01-13T12:04:41.405052Z",
          "iopub.status.idle": "2023-01-13T12:04:43.413562Z",
          "shell.execute_reply": "2023-01-13T12:04:43.414668Z",
          "shell.execute_reply.started": "2023-01-13T11:59:26.452963Z"
        },
        "papermill": {
          "duration": 2.043501,
          "end_time": "2023-01-13T12:04:43.414869",
          "exception": false,
          "start_time": "2023-01-13T12:04:41.371368",
          "status": "completed"
        },
        "tags": [],
        "colab": {
          "base_uri": "https://localhost:8080/"
        },
        "id": "attached-comfort",
        "outputId": "0ed51dde-c275-4f85-e6ec-b5b5e47d93fb"
      },
      "outputs": [
        {
          "output_type": "stream",
          "name": "stderr",
          "text": [
            "/usr/local/lib/python3.10/dist-packages/transformers/tokenization_utils_base.py:2364: FutureWarning: The `pad_to_max_length` argument is deprecated and will be removed in a future version, use `padding=True` or `padding='longest'` to pad to the longest sequence in the batch, or use `padding='max_length'` to pad to a max length. In this case, you can give a specific length with `max_length` (e.g. `max_length=45`) or leave max_length to None to pad to the maximal input size of the model (e.g. 512 for Bert).\n",
            "  warnings.warn(\n"
          ]
        }
      ],
      "source": [
        "test_input_ids = []\n",
        "test_attention_masks = []\n",
        "for tweet in test_tweets:\n",
        "    encoded_dict = tokenizer.encode_plus(\n",
        "                        tweet,                     \n",
        "                        add_special_tokens = True, \n",
        "                        max_length = max_len,           \n",
        "                        pad_to_max_length = True,\n",
        "                        return_attention_mask = True,\n",
        "                        return_tensors = 'pt',\n",
        "                   )\n",
        "    test_input_ids.append(encoded_dict['input_ids'])\n",
        "    test_attention_masks.append(encoded_dict['attention_mask'])\n",
        "test_input_ids = torch.cat(test_input_ids, dim=0)\n",
        "test_attention_masks = torch.cat(test_attention_masks, dim=0)"
      ]
    },
    {
      "cell_type": "code",
      "execution_count": 38,
      "id": "active-holiday",
      "metadata": {
        "execution": {
          "iopub.execute_input": "2023-01-13T12:04:43.508927Z",
          "iopub.status.busy": "2023-01-13T12:04:43.508102Z",
          "iopub.status.idle": "2023-01-13T12:04:43.510336Z",
          "shell.execute_reply": "2023-01-13T12:04:43.509604Z",
          "shell.execute_reply.started": "2023-01-13T11:59:28.227763Z"
        },
        "papermill": {
          "duration": 0.05505,
          "end_time": "2023-01-13T12:04:43.510489",
          "exception": false,
          "start_time": "2023-01-13T12:04:43.455439",
          "status": "completed"
        },
        "tags": [],
        "id": "active-holiday"
      },
      "outputs": [],
      "source": [
        "test_dataset = TensorDataset(test_input_ids, test_attention_masks)\n",
        "test_dataloader = DataLoader(\n",
        "            test_dataset, # The validation samples.\n",
        "            sampler = SequentialSampler(test_dataset), # Pull out batches sequentially.\n",
        "            batch_size = batch_size # Evaluate with this batch size.\n",
        "        )"
      ]
    },
    {
      "cell_type": "code",
      "execution_count": 39,
      "id": "included-defensive",
      "metadata": {
        "execution": {
          "iopub.execute_input": "2023-01-13T12:04:43.595526Z",
          "iopub.status.busy": "2023-01-13T12:04:43.594725Z",
          "iopub.status.idle": "2023-01-13T12:04:48.375003Z",
          "shell.execute_reply": "2023-01-13T12:04:48.374535Z",
          "shell.execute_reply.started": "2023-01-13T11:59:28.239365Z"
        },
        "papermill": {
          "duration": 4.818095,
          "end_time": "2023-01-13T12:04:48.375140",
          "exception": false,
          "start_time": "2023-01-13T12:04:43.557045",
          "status": "completed"
        },
        "tags": [],
        "id": "included-defensive"
      },
      "outputs": [],
      "source": [
        "predictions = []\n",
        "for batch in test_dataloader:\n",
        "        b_input_ids = batch[0].to(device)\n",
        "        b_input_mask = batch[1].to(device)\n",
        "        with torch.no_grad():        \n",
        "            output= model(b_input_ids, \n",
        "                                   token_type_ids=None, \n",
        "                                   attention_mask=b_input_mask)\n",
        "            logits = output.logits\n",
        "            logits = logits.detach().cpu().numpy()\n",
        "            pred_flat = np.argmax(logits, axis=1).flatten()\n",
        "            \n",
        "            predictions.extend(list(pred_flat))"
      ]
    },
    {
      "cell_type": "code",
      "execution_count": 40,
      "id": "introductory-diary",
      "metadata": {
        "execution": {
          "iopub.execute_input": "2023-01-13T12:04:48.436636Z",
          "iopub.status.busy": "2023-01-13T12:04:48.435921Z",
          "iopub.status.idle": "2023-01-13T12:04:48.560546Z",
          "shell.execute_reply": "2023-01-13T12:04:48.560933Z",
          "shell.execute_reply.started": "2023-01-13T11:59:33.043119Z"
        },
        "papermill": {
          "duration": 0.158762,
          "end_time": "2023-01-13T12:04:48.561087",
          "exception": false,
          "start_time": "2023-01-13T12:04:48.402325",
          "status": "completed"
        },
        "tags": [],
        "id": "introductory-diary"
      },
      "outputs": [],
      "source": [
        "df_output = pd.DataFrame()\n",
        "df_output['text'] = df_test['text']\n",
        "df_output['target'] =predictions\n",
        "df_output.to_csv('submission.csv',index=False)"
      ]
    }
  ],
  "metadata": {
    "kernelspec": {
      "display_name": "Python 3",
      "language": "python",
      "name": "python3"
    },
    "language_info": {
      "codemirror_mode": {
        "name": "ipython",
        "version": 3
      },
      "file_extension": ".py",
      "mimetype": "text/x-python",
      "name": "python",
      "nbconvert_exporter": "python",
      "pygments_lexer": "ipython3",
      "version": "3.7.10"
    },
    "papermill": {
      "default_parameters": {},
      "duration": 238.730209,
      "end_time": "2023-01-13T12:04:50.937746",
      "environment_variables": {},
      "exception": null,
      "input_path": "__notebook__.ipynb",
      "output_path": "__notebook__.ipynb",
      "parameters": {},
      "start_time": "2023-01-13T12:00:52.207537",
      "version": "2.3.3"
    },
    "widgets": {
      "application/vnd.jupyter.widget-state+json": {
        "7fe6abdcb6484a4d99f2b9aaac8c2a07": {
          "model_module": "@jupyter-widgets/controls",
          "model_name": "HBoxModel",
          "model_module_version": "1.5.0",
          "state": {
            "_dom_classes": [],
            "_model_module": "@jupyter-widgets/controls",
            "_model_module_version": "1.5.0",
            "_model_name": "HBoxModel",
            "_view_count": null,
            "_view_module": "@jupyter-widgets/controls",
            "_view_module_version": "1.5.0",
            "_view_name": "HBoxView",
            "box_style": "",
            "children": [
              "IPY_MODEL_73b25999309e404d98a9564496093ca9",
              "IPY_MODEL_4892241eb6cc45809a6f51862ede6787",
              "IPY_MODEL_27394139e4344bd78faf662c75d4819e"
            ],
            "layout": "IPY_MODEL_54b38bbcd9a340b2aae6ab7983a6588a"
          }
        },
        "73b25999309e404d98a9564496093ca9": {
          "model_module": "@jupyter-widgets/controls",
          "model_name": "HTMLModel",
          "model_module_version": "1.5.0",
          "state": {
            "_dom_classes": [],
            "_model_module": "@jupyter-widgets/controls",
            "_model_module_version": "1.5.0",
            "_model_name": "HTMLModel",
            "_view_count": null,
            "_view_module": "@jupyter-widgets/controls",
            "_view_module_version": "1.5.0",
            "_view_name": "HTMLView",
            "description": "",
            "description_tooltip": null,
            "layout": "IPY_MODEL_0f62f02601e9409bbbb0b1f4550f7591",
            "placeholder": "​",
            "style": "IPY_MODEL_a7e3784be1cc43d6aa42d91abe6b67c3",
            "value": "Downloading (…)solve/main/vocab.txt: 100%"
          }
        },
        "4892241eb6cc45809a6f51862ede6787": {
          "model_module": "@jupyter-widgets/controls",
          "model_name": "FloatProgressModel",
          "model_module_version": "1.5.0",
          "state": {
            "_dom_classes": [],
            "_model_module": "@jupyter-widgets/controls",
            "_model_module_version": "1.5.0",
            "_model_name": "FloatProgressModel",
            "_view_count": null,
            "_view_module": "@jupyter-widgets/controls",
            "_view_module_version": "1.5.0",
            "_view_name": "ProgressView",
            "bar_style": "success",
            "description": "",
            "description_tooltip": null,
            "layout": "IPY_MODEL_6b1ea99a202445959e18c549bbba659b",
            "max": 231508,
            "min": 0,
            "orientation": "horizontal",
            "style": "IPY_MODEL_f16ba75e64d84718ad5c9ed94975a84e",
            "value": 231508
          }
        },
        "27394139e4344bd78faf662c75d4819e": {
          "model_module": "@jupyter-widgets/controls",
          "model_name": "HTMLModel",
          "model_module_version": "1.5.0",
          "state": {
            "_dom_classes": [],
            "_model_module": "@jupyter-widgets/controls",
            "_model_module_version": "1.5.0",
            "_model_name": "HTMLModel",
            "_view_count": null,
            "_view_module": "@jupyter-widgets/controls",
            "_view_module_version": "1.5.0",
            "_view_name": "HTMLView",
            "description": "",
            "description_tooltip": null,
            "layout": "IPY_MODEL_77438aa57ef64479b9e34bd26635df53",
            "placeholder": "​",
            "style": "IPY_MODEL_3f264d00a0434afca336a298f3233e92",
            "value": " 232k/232k [00:00&lt;00:00, 3.13MB/s]"
          }
        },
        "54b38bbcd9a340b2aae6ab7983a6588a": {
          "model_module": "@jupyter-widgets/base",
          "model_name": "LayoutModel",
          "model_module_version": "1.2.0",
          "state": {
            "_model_module": "@jupyter-widgets/base",
            "_model_module_version": "1.2.0",
            "_model_name": "LayoutModel",
            "_view_count": null,
            "_view_module": "@jupyter-widgets/base",
            "_view_module_version": "1.2.0",
            "_view_name": "LayoutView",
            "align_content": null,
            "align_items": null,
            "align_self": null,
            "border": null,
            "bottom": null,
            "display": null,
            "flex": null,
            "flex_flow": null,
            "grid_area": null,
            "grid_auto_columns": null,
            "grid_auto_flow": null,
            "grid_auto_rows": null,
            "grid_column": null,
            "grid_gap": null,
            "grid_row": null,
            "grid_template_areas": null,
            "grid_template_columns": null,
            "grid_template_rows": null,
            "height": null,
            "justify_content": null,
            "justify_items": null,
            "left": null,
            "margin": null,
            "max_height": null,
            "max_width": null,
            "min_height": null,
            "min_width": null,
            "object_fit": null,
            "object_position": null,
            "order": null,
            "overflow": null,
            "overflow_x": null,
            "overflow_y": null,
            "padding": null,
            "right": null,
            "top": null,
            "visibility": null,
            "width": null
          }
        },
        "0f62f02601e9409bbbb0b1f4550f7591": {
          "model_module": "@jupyter-widgets/base",
          "model_name": "LayoutModel",
          "model_module_version": "1.2.0",
          "state": {
            "_model_module": "@jupyter-widgets/base",
            "_model_module_version": "1.2.0",
            "_model_name": "LayoutModel",
            "_view_count": null,
            "_view_module": "@jupyter-widgets/base",
            "_view_module_version": "1.2.0",
            "_view_name": "LayoutView",
            "align_content": null,
            "align_items": null,
            "align_self": null,
            "border": null,
            "bottom": null,
            "display": null,
            "flex": null,
            "flex_flow": null,
            "grid_area": null,
            "grid_auto_columns": null,
            "grid_auto_flow": null,
            "grid_auto_rows": null,
            "grid_column": null,
            "grid_gap": null,
            "grid_row": null,
            "grid_template_areas": null,
            "grid_template_columns": null,
            "grid_template_rows": null,
            "height": null,
            "justify_content": null,
            "justify_items": null,
            "left": null,
            "margin": null,
            "max_height": null,
            "max_width": null,
            "min_height": null,
            "min_width": null,
            "object_fit": null,
            "object_position": null,
            "order": null,
            "overflow": null,
            "overflow_x": null,
            "overflow_y": null,
            "padding": null,
            "right": null,
            "top": null,
            "visibility": null,
            "width": null
          }
        },
        "a7e3784be1cc43d6aa42d91abe6b67c3": {
          "model_module": "@jupyter-widgets/controls",
          "model_name": "DescriptionStyleModel",
          "model_module_version": "1.5.0",
          "state": {
            "_model_module": "@jupyter-widgets/controls",
            "_model_module_version": "1.5.0",
            "_model_name": "DescriptionStyleModel",
            "_view_count": null,
            "_view_module": "@jupyter-widgets/base",
            "_view_module_version": "1.2.0",
            "_view_name": "StyleView",
            "description_width": ""
          }
        },
        "6b1ea99a202445959e18c549bbba659b": {
          "model_module": "@jupyter-widgets/base",
          "model_name": "LayoutModel",
          "model_module_version": "1.2.0",
          "state": {
            "_model_module": "@jupyter-widgets/base",
            "_model_module_version": "1.2.0",
            "_model_name": "LayoutModel",
            "_view_count": null,
            "_view_module": "@jupyter-widgets/base",
            "_view_module_version": "1.2.0",
            "_view_name": "LayoutView",
            "align_content": null,
            "align_items": null,
            "align_self": null,
            "border": null,
            "bottom": null,
            "display": null,
            "flex": null,
            "flex_flow": null,
            "grid_area": null,
            "grid_auto_columns": null,
            "grid_auto_flow": null,
            "grid_auto_rows": null,
            "grid_column": null,
            "grid_gap": null,
            "grid_row": null,
            "grid_template_areas": null,
            "grid_template_columns": null,
            "grid_template_rows": null,
            "height": null,
            "justify_content": null,
            "justify_items": null,
            "left": null,
            "margin": null,
            "max_height": null,
            "max_width": null,
            "min_height": null,
            "min_width": null,
            "object_fit": null,
            "object_position": null,
            "order": null,
            "overflow": null,
            "overflow_x": null,
            "overflow_y": null,
            "padding": null,
            "right": null,
            "top": null,
            "visibility": null,
            "width": null
          }
        },
        "f16ba75e64d84718ad5c9ed94975a84e": {
          "model_module": "@jupyter-widgets/controls",
          "model_name": "ProgressStyleModel",
          "model_module_version": "1.5.0",
          "state": {
            "_model_module": "@jupyter-widgets/controls",
            "_model_module_version": "1.5.0",
            "_model_name": "ProgressStyleModel",
            "_view_count": null,
            "_view_module": "@jupyter-widgets/base",
            "_view_module_version": "1.2.0",
            "_view_name": "StyleView",
            "bar_color": null,
            "description_width": ""
          }
        },
        "77438aa57ef64479b9e34bd26635df53": {
          "model_module": "@jupyter-widgets/base",
          "model_name": "LayoutModel",
          "model_module_version": "1.2.0",
          "state": {
            "_model_module": "@jupyter-widgets/base",
            "_model_module_version": "1.2.0",
            "_model_name": "LayoutModel",
            "_view_count": null,
            "_view_module": "@jupyter-widgets/base",
            "_view_module_version": "1.2.0",
            "_view_name": "LayoutView",
            "align_content": null,
            "align_items": null,
            "align_self": null,
            "border": null,
            "bottom": null,
            "display": null,
            "flex": null,
            "flex_flow": null,
            "grid_area": null,
            "grid_auto_columns": null,
            "grid_auto_flow": null,
            "grid_auto_rows": null,
            "grid_column": null,
            "grid_gap": null,
            "grid_row": null,
            "grid_template_areas": null,
            "grid_template_columns": null,
            "grid_template_rows": null,
            "height": null,
            "justify_content": null,
            "justify_items": null,
            "left": null,
            "margin": null,
            "max_height": null,
            "max_width": null,
            "min_height": null,
            "min_width": null,
            "object_fit": null,
            "object_position": null,
            "order": null,
            "overflow": null,
            "overflow_x": null,
            "overflow_y": null,
            "padding": null,
            "right": null,
            "top": null,
            "visibility": null,
            "width": null
          }
        },
        "3f264d00a0434afca336a298f3233e92": {
          "model_module": "@jupyter-widgets/controls",
          "model_name": "DescriptionStyleModel",
          "model_module_version": "1.5.0",
          "state": {
            "_model_module": "@jupyter-widgets/controls",
            "_model_module_version": "1.5.0",
            "_model_name": "DescriptionStyleModel",
            "_view_count": null,
            "_view_module": "@jupyter-widgets/base",
            "_view_module_version": "1.2.0",
            "_view_name": "StyleView",
            "description_width": ""
          }
        },
        "f05fe9aeefcf4303827603f70b9336ab": {
          "model_module": "@jupyter-widgets/controls",
          "model_name": "HBoxModel",
          "model_module_version": "1.5.0",
          "state": {
            "_dom_classes": [],
            "_model_module": "@jupyter-widgets/controls",
            "_model_module_version": "1.5.0",
            "_model_name": "HBoxModel",
            "_view_count": null,
            "_view_module": "@jupyter-widgets/controls",
            "_view_module_version": "1.5.0",
            "_view_name": "HBoxView",
            "box_style": "",
            "children": [
              "IPY_MODEL_c9eda7fba57b4a349f3744197935aa3c",
              "IPY_MODEL_80dc3a08cec54df08eb3549cf62afde9",
              "IPY_MODEL_ca8973d242ce429586f985aa0b413c4a"
            ],
            "layout": "IPY_MODEL_9eaac1df58f14e918a7d63a8845ab2e2"
          }
        },
        "c9eda7fba57b4a349f3744197935aa3c": {
          "model_module": "@jupyter-widgets/controls",
          "model_name": "HTMLModel",
          "model_module_version": "1.5.0",
          "state": {
            "_dom_classes": [],
            "_model_module": "@jupyter-widgets/controls",
            "_model_module_version": "1.5.0",
            "_model_name": "HTMLModel",
            "_view_count": null,
            "_view_module": "@jupyter-widgets/controls",
            "_view_module_version": "1.5.0",
            "_view_name": "HTMLView",
            "description": "",
            "description_tooltip": null,
            "layout": "IPY_MODEL_176ee53262c24b0aba0feb182f1b1c10",
            "placeholder": "​",
            "style": "IPY_MODEL_c49d9a7446354a16b74e6577903af9e6",
            "value": "Downloading (…)okenizer_config.json: 100%"
          }
        },
        "80dc3a08cec54df08eb3549cf62afde9": {
          "model_module": "@jupyter-widgets/controls",
          "model_name": "FloatProgressModel",
          "model_module_version": "1.5.0",
          "state": {
            "_dom_classes": [],
            "_model_module": "@jupyter-widgets/controls",
            "_model_module_version": "1.5.0",
            "_model_name": "FloatProgressModel",
            "_view_count": null,
            "_view_module": "@jupyter-widgets/controls",
            "_view_module_version": "1.5.0",
            "_view_name": "ProgressView",
            "bar_style": "success",
            "description": "",
            "description_tooltip": null,
            "layout": "IPY_MODEL_1f4cc2fbda2040b2a049b69a1d3f2f2d",
            "max": 28,
            "min": 0,
            "orientation": "horizontal",
            "style": "IPY_MODEL_fd7bf7583be94af3a898f903b576680f",
            "value": 28
          }
        },
        "ca8973d242ce429586f985aa0b413c4a": {
          "model_module": "@jupyter-widgets/controls",
          "model_name": "HTMLModel",
          "model_module_version": "1.5.0",
          "state": {
            "_dom_classes": [],
            "_model_module": "@jupyter-widgets/controls",
            "_model_module_version": "1.5.0",
            "_model_name": "HTMLModel",
            "_view_count": null,
            "_view_module": "@jupyter-widgets/controls",
            "_view_module_version": "1.5.0",
            "_view_name": "HTMLView",
            "description": "",
            "description_tooltip": null,
            "layout": "IPY_MODEL_1dc1ee38b8ef4e1fb8b0ae5a9247243a",
            "placeholder": "​",
            "style": "IPY_MODEL_c8a461a8463449bdbd61e0dafcbeb1e8",
            "value": " 28.0/28.0 [00:00&lt;00:00, 1.36kB/s]"
          }
        },
        "9eaac1df58f14e918a7d63a8845ab2e2": {
          "model_module": "@jupyter-widgets/base",
          "model_name": "LayoutModel",
          "model_module_version": "1.2.0",
          "state": {
            "_model_module": "@jupyter-widgets/base",
            "_model_module_version": "1.2.0",
            "_model_name": "LayoutModel",
            "_view_count": null,
            "_view_module": "@jupyter-widgets/base",
            "_view_module_version": "1.2.0",
            "_view_name": "LayoutView",
            "align_content": null,
            "align_items": null,
            "align_self": null,
            "border": null,
            "bottom": null,
            "display": null,
            "flex": null,
            "flex_flow": null,
            "grid_area": null,
            "grid_auto_columns": null,
            "grid_auto_flow": null,
            "grid_auto_rows": null,
            "grid_column": null,
            "grid_gap": null,
            "grid_row": null,
            "grid_template_areas": null,
            "grid_template_columns": null,
            "grid_template_rows": null,
            "height": null,
            "justify_content": null,
            "justify_items": null,
            "left": null,
            "margin": null,
            "max_height": null,
            "max_width": null,
            "min_height": null,
            "min_width": null,
            "object_fit": null,
            "object_position": null,
            "order": null,
            "overflow": null,
            "overflow_x": null,
            "overflow_y": null,
            "padding": null,
            "right": null,
            "top": null,
            "visibility": null,
            "width": null
          }
        },
        "176ee53262c24b0aba0feb182f1b1c10": {
          "model_module": "@jupyter-widgets/base",
          "model_name": "LayoutModel",
          "model_module_version": "1.2.0",
          "state": {
            "_model_module": "@jupyter-widgets/base",
            "_model_module_version": "1.2.0",
            "_model_name": "LayoutModel",
            "_view_count": null,
            "_view_module": "@jupyter-widgets/base",
            "_view_module_version": "1.2.0",
            "_view_name": "LayoutView",
            "align_content": null,
            "align_items": null,
            "align_self": null,
            "border": null,
            "bottom": null,
            "display": null,
            "flex": null,
            "flex_flow": null,
            "grid_area": null,
            "grid_auto_columns": null,
            "grid_auto_flow": null,
            "grid_auto_rows": null,
            "grid_column": null,
            "grid_gap": null,
            "grid_row": null,
            "grid_template_areas": null,
            "grid_template_columns": null,
            "grid_template_rows": null,
            "height": null,
            "justify_content": null,
            "justify_items": null,
            "left": null,
            "margin": null,
            "max_height": null,
            "max_width": null,
            "min_height": null,
            "min_width": null,
            "object_fit": null,
            "object_position": null,
            "order": null,
            "overflow": null,
            "overflow_x": null,
            "overflow_y": null,
            "padding": null,
            "right": null,
            "top": null,
            "visibility": null,
            "width": null
          }
        },
        "c49d9a7446354a16b74e6577903af9e6": {
          "model_module": "@jupyter-widgets/controls",
          "model_name": "DescriptionStyleModel",
          "model_module_version": "1.5.0",
          "state": {
            "_model_module": "@jupyter-widgets/controls",
            "_model_module_version": "1.5.0",
            "_model_name": "DescriptionStyleModel",
            "_view_count": null,
            "_view_module": "@jupyter-widgets/base",
            "_view_module_version": "1.2.0",
            "_view_name": "StyleView",
            "description_width": ""
          }
        },
        "1f4cc2fbda2040b2a049b69a1d3f2f2d": {
          "model_module": "@jupyter-widgets/base",
          "model_name": "LayoutModel",
          "model_module_version": "1.2.0",
          "state": {
            "_model_module": "@jupyter-widgets/base",
            "_model_module_version": "1.2.0",
            "_model_name": "LayoutModel",
            "_view_count": null,
            "_view_module": "@jupyter-widgets/base",
            "_view_module_version": "1.2.0",
            "_view_name": "LayoutView",
            "align_content": null,
            "align_items": null,
            "align_self": null,
            "border": null,
            "bottom": null,
            "display": null,
            "flex": null,
            "flex_flow": null,
            "grid_area": null,
            "grid_auto_columns": null,
            "grid_auto_flow": null,
            "grid_auto_rows": null,
            "grid_column": null,
            "grid_gap": null,
            "grid_row": null,
            "grid_template_areas": null,
            "grid_template_columns": null,
            "grid_template_rows": null,
            "height": null,
            "justify_content": null,
            "justify_items": null,
            "left": null,
            "margin": null,
            "max_height": null,
            "max_width": null,
            "min_height": null,
            "min_width": null,
            "object_fit": null,
            "object_position": null,
            "order": null,
            "overflow": null,
            "overflow_x": null,
            "overflow_y": null,
            "padding": null,
            "right": null,
            "top": null,
            "visibility": null,
            "width": null
          }
        },
        "fd7bf7583be94af3a898f903b576680f": {
          "model_module": "@jupyter-widgets/controls",
          "model_name": "ProgressStyleModel",
          "model_module_version": "1.5.0",
          "state": {
            "_model_module": "@jupyter-widgets/controls",
            "_model_module_version": "1.5.0",
            "_model_name": "ProgressStyleModel",
            "_view_count": null,
            "_view_module": "@jupyter-widgets/base",
            "_view_module_version": "1.2.0",
            "_view_name": "StyleView",
            "bar_color": null,
            "description_width": ""
          }
        },
        "1dc1ee38b8ef4e1fb8b0ae5a9247243a": {
          "model_module": "@jupyter-widgets/base",
          "model_name": "LayoutModel",
          "model_module_version": "1.2.0",
          "state": {
            "_model_module": "@jupyter-widgets/base",
            "_model_module_version": "1.2.0",
            "_model_name": "LayoutModel",
            "_view_count": null,
            "_view_module": "@jupyter-widgets/base",
            "_view_module_version": "1.2.0",
            "_view_name": "LayoutView",
            "align_content": null,
            "align_items": null,
            "align_self": null,
            "border": null,
            "bottom": null,
            "display": null,
            "flex": null,
            "flex_flow": null,
            "grid_area": null,
            "grid_auto_columns": null,
            "grid_auto_flow": null,
            "grid_auto_rows": null,
            "grid_column": null,
            "grid_gap": null,
            "grid_row": null,
            "grid_template_areas": null,
            "grid_template_columns": null,
            "grid_template_rows": null,
            "height": null,
            "justify_content": null,
            "justify_items": null,
            "left": null,
            "margin": null,
            "max_height": null,
            "max_width": null,
            "min_height": null,
            "min_width": null,
            "object_fit": null,
            "object_position": null,
            "order": null,
            "overflow": null,
            "overflow_x": null,
            "overflow_y": null,
            "padding": null,
            "right": null,
            "top": null,
            "visibility": null,
            "width": null
          }
        },
        "c8a461a8463449bdbd61e0dafcbeb1e8": {
          "model_module": "@jupyter-widgets/controls",
          "model_name": "DescriptionStyleModel",
          "model_module_version": "1.5.0",
          "state": {
            "_model_module": "@jupyter-widgets/controls",
            "_model_module_version": "1.5.0",
            "_model_name": "DescriptionStyleModel",
            "_view_count": null,
            "_view_module": "@jupyter-widgets/base",
            "_view_module_version": "1.2.0",
            "_view_name": "StyleView",
            "description_width": ""
          }
        },
        "0f84470c81af446fae5ab014e0acbf30": {
          "model_module": "@jupyter-widgets/controls",
          "model_name": "HBoxModel",
          "model_module_version": "1.5.0",
          "state": {
            "_dom_classes": [],
            "_model_module": "@jupyter-widgets/controls",
            "_model_module_version": "1.5.0",
            "_model_name": "HBoxModel",
            "_view_count": null,
            "_view_module": "@jupyter-widgets/controls",
            "_view_module_version": "1.5.0",
            "_view_name": "HBoxView",
            "box_style": "",
            "children": [
              "IPY_MODEL_b7f1650cc39c4194997f9dbb009c068f",
              "IPY_MODEL_ab4fe04504e84fcf812665b678bf6c83",
              "IPY_MODEL_abe90398242e4174aa5139d3e8ff839a"
            ],
            "layout": "IPY_MODEL_6adfe51a887f45bd92176db526eb4ade"
          }
        },
        "b7f1650cc39c4194997f9dbb009c068f": {
          "model_module": "@jupyter-widgets/controls",
          "model_name": "HTMLModel",
          "model_module_version": "1.5.0",
          "state": {
            "_dom_classes": [],
            "_model_module": "@jupyter-widgets/controls",
            "_model_module_version": "1.5.0",
            "_model_name": "HTMLModel",
            "_view_count": null,
            "_view_module": "@jupyter-widgets/controls",
            "_view_module_version": "1.5.0",
            "_view_name": "HTMLView",
            "description": "",
            "description_tooltip": null,
            "layout": "IPY_MODEL_23d615af0cb94e34ab9bda369c8deea0",
            "placeholder": "​",
            "style": "IPY_MODEL_e995272a47ea43f5801b4c0dc5a988b0",
            "value": "Downloading (…)lve/main/config.json: 100%"
          }
        },
        "ab4fe04504e84fcf812665b678bf6c83": {
          "model_module": "@jupyter-widgets/controls",
          "model_name": "FloatProgressModel",
          "model_module_version": "1.5.0",
          "state": {
            "_dom_classes": [],
            "_model_module": "@jupyter-widgets/controls",
            "_model_module_version": "1.5.0",
            "_model_name": "FloatProgressModel",
            "_view_count": null,
            "_view_module": "@jupyter-widgets/controls",
            "_view_module_version": "1.5.0",
            "_view_name": "ProgressView",
            "bar_style": "success",
            "description": "",
            "description_tooltip": null,
            "layout": "IPY_MODEL_81eca27a45a2495c8a3f29dd838b777b",
            "max": 570,
            "min": 0,
            "orientation": "horizontal",
            "style": "IPY_MODEL_38ae84bf89714ecea392f209d2f63fd5",
            "value": 570
          }
        },
        "abe90398242e4174aa5139d3e8ff839a": {
          "model_module": "@jupyter-widgets/controls",
          "model_name": "HTMLModel",
          "model_module_version": "1.5.0",
          "state": {
            "_dom_classes": [],
            "_model_module": "@jupyter-widgets/controls",
            "_model_module_version": "1.5.0",
            "_model_name": "HTMLModel",
            "_view_count": null,
            "_view_module": "@jupyter-widgets/controls",
            "_view_module_version": "1.5.0",
            "_view_name": "HTMLView",
            "description": "",
            "description_tooltip": null,
            "layout": "IPY_MODEL_fd8cfc907f94457aa9a944e9968b4f80",
            "placeholder": "​",
            "style": "IPY_MODEL_4301a41f60c7465aa907e85e3bab7516",
            "value": " 570/570 [00:00&lt;00:00, 35.7kB/s]"
          }
        },
        "6adfe51a887f45bd92176db526eb4ade": {
          "model_module": "@jupyter-widgets/base",
          "model_name": "LayoutModel",
          "model_module_version": "1.2.0",
          "state": {
            "_model_module": "@jupyter-widgets/base",
            "_model_module_version": "1.2.0",
            "_model_name": "LayoutModel",
            "_view_count": null,
            "_view_module": "@jupyter-widgets/base",
            "_view_module_version": "1.2.0",
            "_view_name": "LayoutView",
            "align_content": null,
            "align_items": null,
            "align_self": null,
            "border": null,
            "bottom": null,
            "display": null,
            "flex": null,
            "flex_flow": null,
            "grid_area": null,
            "grid_auto_columns": null,
            "grid_auto_flow": null,
            "grid_auto_rows": null,
            "grid_column": null,
            "grid_gap": null,
            "grid_row": null,
            "grid_template_areas": null,
            "grid_template_columns": null,
            "grid_template_rows": null,
            "height": null,
            "justify_content": null,
            "justify_items": null,
            "left": null,
            "margin": null,
            "max_height": null,
            "max_width": null,
            "min_height": null,
            "min_width": null,
            "object_fit": null,
            "object_position": null,
            "order": null,
            "overflow": null,
            "overflow_x": null,
            "overflow_y": null,
            "padding": null,
            "right": null,
            "top": null,
            "visibility": null,
            "width": null
          }
        },
        "23d615af0cb94e34ab9bda369c8deea0": {
          "model_module": "@jupyter-widgets/base",
          "model_name": "LayoutModel",
          "model_module_version": "1.2.0",
          "state": {
            "_model_module": "@jupyter-widgets/base",
            "_model_module_version": "1.2.0",
            "_model_name": "LayoutModel",
            "_view_count": null,
            "_view_module": "@jupyter-widgets/base",
            "_view_module_version": "1.2.0",
            "_view_name": "LayoutView",
            "align_content": null,
            "align_items": null,
            "align_self": null,
            "border": null,
            "bottom": null,
            "display": null,
            "flex": null,
            "flex_flow": null,
            "grid_area": null,
            "grid_auto_columns": null,
            "grid_auto_flow": null,
            "grid_auto_rows": null,
            "grid_column": null,
            "grid_gap": null,
            "grid_row": null,
            "grid_template_areas": null,
            "grid_template_columns": null,
            "grid_template_rows": null,
            "height": null,
            "justify_content": null,
            "justify_items": null,
            "left": null,
            "margin": null,
            "max_height": null,
            "max_width": null,
            "min_height": null,
            "min_width": null,
            "object_fit": null,
            "object_position": null,
            "order": null,
            "overflow": null,
            "overflow_x": null,
            "overflow_y": null,
            "padding": null,
            "right": null,
            "top": null,
            "visibility": null,
            "width": null
          }
        },
        "e995272a47ea43f5801b4c0dc5a988b0": {
          "model_module": "@jupyter-widgets/controls",
          "model_name": "DescriptionStyleModel",
          "model_module_version": "1.5.0",
          "state": {
            "_model_module": "@jupyter-widgets/controls",
            "_model_module_version": "1.5.0",
            "_model_name": "DescriptionStyleModel",
            "_view_count": null,
            "_view_module": "@jupyter-widgets/base",
            "_view_module_version": "1.2.0",
            "_view_name": "StyleView",
            "description_width": ""
          }
        },
        "81eca27a45a2495c8a3f29dd838b777b": {
          "model_module": "@jupyter-widgets/base",
          "model_name": "LayoutModel",
          "model_module_version": "1.2.0",
          "state": {
            "_model_module": "@jupyter-widgets/base",
            "_model_module_version": "1.2.0",
            "_model_name": "LayoutModel",
            "_view_count": null,
            "_view_module": "@jupyter-widgets/base",
            "_view_module_version": "1.2.0",
            "_view_name": "LayoutView",
            "align_content": null,
            "align_items": null,
            "align_self": null,
            "border": null,
            "bottom": null,
            "display": null,
            "flex": null,
            "flex_flow": null,
            "grid_area": null,
            "grid_auto_columns": null,
            "grid_auto_flow": null,
            "grid_auto_rows": null,
            "grid_column": null,
            "grid_gap": null,
            "grid_row": null,
            "grid_template_areas": null,
            "grid_template_columns": null,
            "grid_template_rows": null,
            "height": null,
            "justify_content": null,
            "justify_items": null,
            "left": null,
            "margin": null,
            "max_height": null,
            "max_width": null,
            "min_height": null,
            "min_width": null,
            "object_fit": null,
            "object_position": null,
            "order": null,
            "overflow": null,
            "overflow_x": null,
            "overflow_y": null,
            "padding": null,
            "right": null,
            "top": null,
            "visibility": null,
            "width": null
          }
        },
        "38ae84bf89714ecea392f209d2f63fd5": {
          "model_module": "@jupyter-widgets/controls",
          "model_name": "ProgressStyleModel",
          "model_module_version": "1.5.0",
          "state": {
            "_model_module": "@jupyter-widgets/controls",
            "_model_module_version": "1.5.0",
            "_model_name": "ProgressStyleModel",
            "_view_count": null,
            "_view_module": "@jupyter-widgets/base",
            "_view_module_version": "1.2.0",
            "_view_name": "StyleView",
            "bar_color": null,
            "description_width": ""
          }
        },
        "fd8cfc907f94457aa9a944e9968b4f80": {
          "model_module": "@jupyter-widgets/base",
          "model_name": "LayoutModel",
          "model_module_version": "1.2.0",
          "state": {
            "_model_module": "@jupyter-widgets/base",
            "_model_module_version": "1.2.0",
            "_model_name": "LayoutModel",
            "_view_count": null,
            "_view_module": "@jupyter-widgets/base",
            "_view_module_version": "1.2.0",
            "_view_name": "LayoutView",
            "align_content": null,
            "align_items": null,
            "align_self": null,
            "border": null,
            "bottom": null,
            "display": null,
            "flex": null,
            "flex_flow": null,
            "grid_area": null,
            "grid_auto_columns": null,
            "grid_auto_flow": null,
            "grid_auto_rows": null,
            "grid_column": null,
            "grid_gap": null,
            "grid_row": null,
            "grid_template_areas": null,
            "grid_template_columns": null,
            "grid_template_rows": null,
            "height": null,
            "justify_content": null,
            "justify_items": null,
            "left": null,
            "margin": null,
            "max_height": null,
            "max_width": null,
            "min_height": null,
            "min_width": null,
            "object_fit": null,
            "object_position": null,
            "order": null,
            "overflow": null,
            "overflow_x": null,
            "overflow_y": null,
            "padding": null,
            "right": null,
            "top": null,
            "visibility": null,
            "width": null
          }
        },
        "4301a41f60c7465aa907e85e3bab7516": {
          "model_module": "@jupyter-widgets/controls",
          "model_name": "DescriptionStyleModel",
          "model_module_version": "1.5.0",
          "state": {
            "_model_module": "@jupyter-widgets/controls",
            "_model_module_version": "1.5.0",
            "_model_name": "DescriptionStyleModel",
            "_view_count": null,
            "_view_module": "@jupyter-widgets/base",
            "_view_module_version": "1.2.0",
            "_view_name": "StyleView",
            "description_width": ""
          }
        },
        "9a97b41e053044dabaef4b477472756c": {
          "model_module": "@jupyter-widgets/controls",
          "model_name": "HBoxModel",
          "model_module_version": "1.5.0",
          "state": {
            "_dom_classes": [],
            "_model_module": "@jupyter-widgets/controls",
            "_model_module_version": "1.5.0",
            "_model_name": "HBoxModel",
            "_view_count": null,
            "_view_module": "@jupyter-widgets/controls",
            "_view_module_version": "1.5.0",
            "_view_name": "HBoxView",
            "box_style": "",
            "children": [
              "IPY_MODEL_69eba0cba505423881d9f28b7704b58f",
              "IPY_MODEL_3156228bb63c47d8b9360eb9db1165e7",
              "IPY_MODEL_917f656b3b5c4215b1080f28001143c8"
            ],
            "layout": "IPY_MODEL_4bce3ede48214cf2bbec98ca7168fced"
          }
        },
        "69eba0cba505423881d9f28b7704b58f": {
          "model_module": "@jupyter-widgets/controls",
          "model_name": "HTMLModel",
          "model_module_version": "1.5.0",
          "state": {
            "_dom_classes": [],
            "_model_module": "@jupyter-widgets/controls",
            "_model_module_version": "1.5.0",
            "_model_name": "HTMLModel",
            "_view_count": null,
            "_view_module": "@jupyter-widgets/controls",
            "_view_module_version": "1.5.0",
            "_view_name": "HTMLView",
            "description": "",
            "description_tooltip": null,
            "layout": "IPY_MODEL_713115003af94c4f967045abaa8c25f0",
            "placeholder": "​",
            "style": "IPY_MODEL_345e59ead9f7444c950a8d73e32e0763",
            "value": "Downloading pytorch_model.bin: 100%"
          }
        },
        "3156228bb63c47d8b9360eb9db1165e7": {
          "model_module": "@jupyter-widgets/controls",
          "model_name": "FloatProgressModel",
          "model_module_version": "1.5.0",
          "state": {
            "_dom_classes": [],
            "_model_module": "@jupyter-widgets/controls",
            "_model_module_version": "1.5.0",
            "_model_name": "FloatProgressModel",
            "_view_count": null,
            "_view_module": "@jupyter-widgets/controls",
            "_view_module_version": "1.5.0",
            "_view_name": "ProgressView",
            "bar_style": "success",
            "description": "",
            "description_tooltip": null,
            "layout": "IPY_MODEL_e89b064d9fcf45fbbd0638cf0771133c",
            "max": 440473133,
            "min": 0,
            "orientation": "horizontal",
            "style": "IPY_MODEL_6fe1ca9d103a458d9fd3b7b7fb85ce62",
            "value": 440473133
          }
        },
        "917f656b3b5c4215b1080f28001143c8": {
          "model_module": "@jupyter-widgets/controls",
          "model_name": "HTMLModel",
          "model_module_version": "1.5.0",
          "state": {
            "_dom_classes": [],
            "_model_module": "@jupyter-widgets/controls",
            "_model_module_version": "1.5.0",
            "_model_name": "HTMLModel",
            "_view_count": null,
            "_view_module": "@jupyter-widgets/controls",
            "_view_module_version": "1.5.0",
            "_view_name": "HTMLView",
            "description": "",
            "description_tooltip": null,
            "layout": "IPY_MODEL_8f68cd43724c4d67827c7b8e3dd862d8",
            "placeholder": "​",
            "style": "IPY_MODEL_6a044223d5604461bf73f64727bd565e",
            "value": " 440M/440M [00:01&lt;00:00, 279MB/s]"
          }
        },
        "4bce3ede48214cf2bbec98ca7168fced": {
          "model_module": "@jupyter-widgets/base",
          "model_name": "LayoutModel",
          "model_module_version": "1.2.0",
          "state": {
            "_model_module": "@jupyter-widgets/base",
            "_model_module_version": "1.2.0",
            "_model_name": "LayoutModel",
            "_view_count": null,
            "_view_module": "@jupyter-widgets/base",
            "_view_module_version": "1.2.0",
            "_view_name": "LayoutView",
            "align_content": null,
            "align_items": null,
            "align_self": null,
            "border": null,
            "bottom": null,
            "display": null,
            "flex": null,
            "flex_flow": null,
            "grid_area": null,
            "grid_auto_columns": null,
            "grid_auto_flow": null,
            "grid_auto_rows": null,
            "grid_column": null,
            "grid_gap": null,
            "grid_row": null,
            "grid_template_areas": null,
            "grid_template_columns": null,
            "grid_template_rows": null,
            "height": null,
            "justify_content": null,
            "justify_items": null,
            "left": null,
            "margin": null,
            "max_height": null,
            "max_width": null,
            "min_height": null,
            "min_width": null,
            "object_fit": null,
            "object_position": null,
            "order": null,
            "overflow": null,
            "overflow_x": null,
            "overflow_y": null,
            "padding": null,
            "right": null,
            "top": null,
            "visibility": null,
            "width": null
          }
        },
        "713115003af94c4f967045abaa8c25f0": {
          "model_module": "@jupyter-widgets/base",
          "model_name": "LayoutModel",
          "model_module_version": "1.2.0",
          "state": {
            "_model_module": "@jupyter-widgets/base",
            "_model_module_version": "1.2.0",
            "_model_name": "LayoutModel",
            "_view_count": null,
            "_view_module": "@jupyter-widgets/base",
            "_view_module_version": "1.2.0",
            "_view_name": "LayoutView",
            "align_content": null,
            "align_items": null,
            "align_self": null,
            "border": null,
            "bottom": null,
            "display": null,
            "flex": null,
            "flex_flow": null,
            "grid_area": null,
            "grid_auto_columns": null,
            "grid_auto_flow": null,
            "grid_auto_rows": null,
            "grid_column": null,
            "grid_gap": null,
            "grid_row": null,
            "grid_template_areas": null,
            "grid_template_columns": null,
            "grid_template_rows": null,
            "height": null,
            "justify_content": null,
            "justify_items": null,
            "left": null,
            "margin": null,
            "max_height": null,
            "max_width": null,
            "min_height": null,
            "min_width": null,
            "object_fit": null,
            "object_position": null,
            "order": null,
            "overflow": null,
            "overflow_x": null,
            "overflow_y": null,
            "padding": null,
            "right": null,
            "top": null,
            "visibility": null,
            "width": null
          }
        },
        "345e59ead9f7444c950a8d73e32e0763": {
          "model_module": "@jupyter-widgets/controls",
          "model_name": "DescriptionStyleModel",
          "model_module_version": "1.5.0",
          "state": {
            "_model_module": "@jupyter-widgets/controls",
            "_model_module_version": "1.5.0",
            "_model_name": "DescriptionStyleModel",
            "_view_count": null,
            "_view_module": "@jupyter-widgets/base",
            "_view_module_version": "1.2.0",
            "_view_name": "StyleView",
            "description_width": ""
          }
        },
        "e89b064d9fcf45fbbd0638cf0771133c": {
          "model_module": "@jupyter-widgets/base",
          "model_name": "LayoutModel",
          "model_module_version": "1.2.0",
          "state": {
            "_model_module": "@jupyter-widgets/base",
            "_model_module_version": "1.2.0",
            "_model_name": "LayoutModel",
            "_view_count": null,
            "_view_module": "@jupyter-widgets/base",
            "_view_module_version": "1.2.0",
            "_view_name": "LayoutView",
            "align_content": null,
            "align_items": null,
            "align_self": null,
            "border": null,
            "bottom": null,
            "display": null,
            "flex": null,
            "flex_flow": null,
            "grid_area": null,
            "grid_auto_columns": null,
            "grid_auto_flow": null,
            "grid_auto_rows": null,
            "grid_column": null,
            "grid_gap": null,
            "grid_row": null,
            "grid_template_areas": null,
            "grid_template_columns": null,
            "grid_template_rows": null,
            "height": null,
            "justify_content": null,
            "justify_items": null,
            "left": null,
            "margin": null,
            "max_height": null,
            "max_width": null,
            "min_height": null,
            "min_width": null,
            "object_fit": null,
            "object_position": null,
            "order": null,
            "overflow": null,
            "overflow_x": null,
            "overflow_y": null,
            "padding": null,
            "right": null,
            "top": null,
            "visibility": null,
            "width": null
          }
        },
        "6fe1ca9d103a458d9fd3b7b7fb85ce62": {
          "model_module": "@jupyter-widgets/controls",
          "model_name": "ProgressStyleModel",
          "model_module_version": "1.5.0",
          "state": {
            "_model_module": "@jupyter-widgets/controls",
            "_model_module_version": "1.5.0",
            "_model_name": "ProgressStyleModel",
            "_view_count": null,
            "_view_module": "@jupyter-widgets/base",
            "_view_module_version": "1.2.0",
            "_view_name": "StyleView",
            "bar_color": null,
            "description_width": ""
          }
        },
        "8f68cd43724c4d67827c7b8e3dd862d8": {
          "model_module": "@jupyter-widgets/base",
          "model_name": "LayoutModel",
          "model_module_version": "1.2.0",
          "state": {
            "_model_module": "@jupyter-widgets/base",
            "_model_module_version": "1.2.0",
            "_model_name": "LayoutModel",
            "_view_count": null,
            "_view_module": "@jupyter-widgets/base",
            "_view_module_version": "1.2.0",
            "_view_name": "LayoutView",
            "align_content": null,
            "align_items": null,
            "align_self": null,
            "border": null,
            "bottom": null,
            "display": null,
            "flex": null,
            "flex_flow": null,
            "grid_area": null,
            "grid_auto_columns": null,
            "grid_auto_flow": null,
            "grid_auto_rows": null,
            "grid_column": null,
            "grid_gap": null,
            "grid_row": null,
            "grid_template_areas": null,
            "grid_template_columns": null,
            "grid_template_rows": null,
            "height": null,
            "justify_content": null,
            "justify_items": null,
            "left": null,
            "margin": null,
            "max_height": null,
            "max_width": null,
            "min_height": null,
            "min_width": null,
            "object_fit": null,
            "object_position": null,
            "order": null,
            "overflow": null,
            "overflow_x": null,
            "overflow_y": null,
            "padding": null,
            "right": null,
            "top": null,
            "visibility": null,
            "width": null
          }
        },
        "6a044223d5604461bf73f64727bd565e": {
          "model_module": "@jupyter-widgets/controls",
          "model_name": "DescriptionStyleModel",
          "model_module_version": "1.5.0",
          "state": {
            "_model_module": "@jupyter-widgets/controls",
            "_model_module_version": "1.5.0",
            "_model_name": "DescriptionStyleModel",
            "_view_count": null,
            "_view_module": "@jupyter-widgets/base",
            "_view_module_version": "1.2.0",
            "_view_name": "StyleView",
            "description_width": ""
          }
        }
      }
    },
    "colab": {
      "provenance": [],
      "include_colab_link": true
    }
  },
  "nbformat": 4,
  "nbformat_minor": 5
}